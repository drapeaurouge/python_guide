{
 "cells": [
  {
   "cell_type": "markdown",
   "metadata": {},
   "source": [
    "# Python Guide\n",
    "* I inherit this lecture from Wu Jin, and only make some minor changes. Wu Jin's original lecture can be found at https://github.com/Fmajor/pythonGuide"
   ]
  },
  {
   "cell_type": "markdown",
   "metadata": {},
   "source": [
    "## Understand Programing"
   ]
  },
  {
   "cell_type": "markdown",
   "metadata": {},
   "source": [
    "### static and dynamic\n",
    "* Conception:\n",
    "    * IDE: Integrated Development Environment\n",
    "    * Compiler: translate source code to binary hardware code for static language\n",
    "    * linker: link the function for static language\n",
    "    * Interpreter: translate source code to binary hardware code, handle the runtime environment for a static language\n",
    "* **program of a static language**:\n",
    "    * example: C, C++, Fortarn, Go\n",
    "    * feature:\n",
    "        * You must express the type of each variable, constant and array\n",
    "        * You must handle the allocate and release of memory\n",
    "    * must \"Compile\" and \"link\" to a Binary file\n",
    "        * Compile: translate the source code line by line to the hardware code\n",
    "        * Link: find the location of all function calls (if they are not in the source code)\n",
    "    * run:\n",
    "        * The GUI or CUI tell the shell to load the file to memory, and the CPU to run the hardware code directly\n",
    "    * pros:\n",
    "        * run fast\n",
    "        * control of memory\n",
    "        * most error are found in the Compile step (not in runtime) by the compiler\n",
    "        * easy for a IDE to do Code Analyzer\n",
    "    * cons:\n",
    "        * write slow\n",
    "        * be crazy to control the type and allocation of memory\n",
    "* **program of a dynamic language**:\n",
    "    * example: Python, R, Matlab, Javascript\n",
    "    * feature:\n",
    "        * type is dynamic and implicit\n",
    "        * memory allocation is automatic\n",
    "    * no need to \"Compile\"\n",
    "    * run:\n",
    "        * The GUI or CUI tell the shell to open the Interpreter\n",
    "        * The Interpreter init a runtime environment\n",
    "        * The Interpreter load the source code and translate it to hardware code line by line, send it to CPU\n",
    "        * The Interpreter handle the memory allocation\n",
    "    * pros:\n",
    "        * write fast\n",
    "        * interactive mode (console), easy for debug\n",
    "    * cons:\n",
    "        * hard for a IDE to do Code Analyzer (e.g. High CPU and Memory use of Pycharm(IDE) to do Code in real time)\n",
    "        * most error appear at runtime, waste time in debug"
   ]
  },
  {
   "cell_type": "markdown",
   "metadata": {},
   "source": [
    "## Object Oriented Programing and Procedure Oriented Programing\n",
    "* **Procedure Oriented Programing**：\n",
    "    * translate of each step\n",
    "* **Object Oriented Programing**：\n",
    "    * Every thing is a Object\n",
    "    * Object have its own **Properties** and **method**\n",
    "    * init a Object and let it do the things\n",
    "    \n",
    "### Example of a dog\n",
    "* class Animal:\n",
    "    * properties: kind, birthday\n",
    "    * method: say()\n",
    "* class Dog(Animal):\n",
    "    * properties: nickName\n",
    "    * method: say() => print('woof')\n",
    "    * init: kind = dog\n",
    "* class Cat(Animal):\n",
    "    * properties: nickName\n",
    "    * method: say() => print('miao')\n",
    "    * init: kind = cat\n",
    "* class Fox(Animal):\n",
    "    * properties: nickName\n",
    "    * method: say() => print('????')\n",
    "    * init: kind = fox\n",
    "    \n",
    "```\n",
    "xiaohei = Dog(nickName='xiaohei', birthday=xxxxxx)\n",
    "xiaohua = Cat(nickName='xiaohei', birthday=xxxxxx)\n",
    "heihei  = Fox(nickName='xiaohei', birthday=xxxxxx)\n",
    "\n",
    "print('xiaohei is a', xiaohei.kind, 'xiaohua is a', xiaohei.kind, 'heihei is a ', heihie.kind)\n",
    "\n",
    "xiaohei.say()\n",
    "xiaohua.say()\n",
    "heihei.say()\n",
    "```\n"
   ]
  },
  {
   "cell_type": "markdown",
   "metadata": {},
   "source": [
    "# Install and run python\n",
    "* python2 or python3?\n",
    "    * python2 will be abandoned in 2020\n",
    "    * use python3\n",
    "    * however, some softwares depend on python2\n",
    "\n",
    "* How to \"run\" a python code?\n",
    "    * tell the Interpreter to load the source file\n",
    "* Python Interpreter:\n",
    "    * cpython(python): the default python interpreter, written by C\n",
    "    * jython: python interpreter written by java (and can integrate in java environment)\n",
    "    * ipython: better Exception highlight\n",
    "    * bpython: better code and struct autocomplete\n",
    "\n",
    "* IDEs\n",
    "    * [PyCharm](https://www.jetbrains.com/pycharm/)\n",
    "    * [Spyder](https://pythonhosted.org/spyder/index.html)\n",
    "    * [Anaconda](https://www.anaconda.com/)\n",
    "    * [Jupyter-notebook and Jupyter-lab](https://jupyter.org)\n",
    "\n",
    "## Install python\n",
    "* Windows: install PyCharm, Spyder or Anaconda, python is installed automatically\n",
    "* Linux:\n",
    "    * install PyCharm, Spyder or Anaconda, python is installed automatically\n",
    "    * apt/yum/dnf/... install python3 python3-pip \n",
    "        * pip3 install ipython bpython jupyter jupyterlab\n",
    "* OSX:\n",
    "    * (install brew...)\n",
    "    * brew install python3 python3-pip \n",
    "        * pip3 install ipython bpython jupyter jupyterlab\n",
    "    * install Anaconda\n",
    "\n",
    "* **Task one: try the python console and print('Hello World') in all interpreter**\n",
    "    * Windows:\n",
    "        * open the ide and find the console and try it\n",
    "        * open jupyter lab and try it\n",
    "    * Unix: \n",
    "        * open the ide and find the console and try it\n",
    "        * open jupyter lab and try\n",
    "        * use python, ipython and bpython and try it\n",
    "* **Task two: write print('Hello World') to helloWorld.py and run it in all interpreter**\n",
    "\n",
    "**vi/vim is very useful when coding on a server.**"
   ]
  },
  {
   "cell_type": "markdown",
   "metadata": {},
   "source": [
    "## Python version manager and Python Package manager\n",
    "* conception:\n",
    "    * environment variable: all variables of a shell\n",
    "        * try env command in a shell\n",
    "        * PATH: all directories to search for a command\n",
    "        * PYTHONPATH: additional directories to search for a python package\n",
    "    * try 'which python', 'which ipython' and 'which bpython'\n",
    "* in python\n",
    "```\n",
    "import sys\n",
    "print(sys.version)\n",
    "print(sys.path)\n",
    "```\n",
    "* sys.path:\n",
    "A list of strings that specifies the search path for modules. Initialized from the environment variable PYTHONPATH, plus an installation-dependent default.\n",
    "\n",
    "* **Task three: figure out which Python you are use, print the sys.path** \n",
    "    * windows: try to find it in the IDE setting window...\n",
    "    * Unix:\n",
    "        * try to find it in the IDE setting window...\n",
    "        * do it for python, ipython, bpython\n",
    "        \n",
    "## Different version or environment of python\n",
    "* new features: e.g. f'{formated} string' syntax in python >3.5\n",
    "* bugs in a higher version of python? use the lower version temporarily\n",
    "* install different version of package in different environment\n",
    "\n",
    "## python env manage\n",
    "* IDEs: try to find them in the IDE settings\n",
    "* Unix:\n",
    "    * unset and set PYTHONPATH\n",
    "    * [pyenv](https://github.com/pyenv/pyenv-installer)\n",
    "    * [conda](https://conda.io/docs/user-guide/install/download.html)\n",
    "\n",
    "## python package manage\n",
    "* IDEs: try to find them in the IDE settings\n",
    "* Unix:\n",
    "    * [pip](https://pypi.org/project/pip/): pip are bind to python executable\n",
    "    * [conda](https://conda.io/docs/user-guide/install/download.html)\n",
    "\n",
    "```\n",
    "# install pyenv\n",
    "cd\n",
    "git clone git://github.com/pyenv/pyenv.git .pyenv\n",
    "echo 'export PYENV_ROOT=\"$HOME/.pyenv\"' >> ~/.bashrc\n",
    "echo 'export PATH=\"$PYENV_ROOT/bin:$PATH\"' >> ~/.bashrc\n",
    "echo 'eval \"$(pyenv init -)\"' >> ~/.bashrc\n",
    "source ~/.bashrc\n",
    "\n",
    "# list of versions\n",
    "pyenv install --list\n",
    "# install 3.6.0 and 3.7.0\n",
    "pyenv install 3.6.0\n",
    "pyenv install 3.7.0\n",
    "pyenv versions\n",
    "# add virtual environment\n",
    "pyenv virtualenv 3.6.0 v360_0\n",
    "pyenv virtualenv 3.6.0 v360_1\n",
    "pyenv virtualenv 3.7.0 v370_0\n",
    "# switch between environment\n",
    "pyenv activate v360_0\n",
    "which python; which pip\n",
    "pyenv activate v360_1\n",
    "which python; which pip\n",
    "pyenv activate v370_0\n",
    "which python; which pip\n",
    "# pip basic usage\n",
    "pip search matplotlib\n",
    "pip install matplotlib\n",
    "pip uninstall matplotlib\n",
    "pip install matplotlib==2.0.0\n",
    "# in python and fetch the version\n",
    "import matplotlib\n",
    "print(matplotlib.__version__)\n",
    "```\n",
    "* with [conda](https://docs.conda.io/projects/conda/en/latest/user-guide/tasks/manage-environments.html)\n",
    "```\n",
    "# create a new environment (maybe need sudo)\n",
    "conda create python=2.7 --prefix ~/.python2\n",
    "# activate the new environment\n",
    "conda activate ~/.python2\n",
    "# shorten the name\n",
    "conda config --set env_prompt '(name)'\n",
    "# install a package in this environment\n",
    "pip install matplotlib\n",
    "```\n",
    "\n",
    "### manually install a package\n",
    "```\n",
    "clone the package from github or download somewhere else\n",
    "python setup.py build\n",
    "python setup.py install\n",
    "remember to use the right python environment!\n",
    "```\n",
    "\n",
    "* **Task three: try to install different version of python and install different version of package** \n",
    "    * windows: try to find it in the IDE setting window...\n",
    "    * Unix:\n",
    "        * try to find it in the IDE setting window...\n",
    "        * do it use pyenv or conda\n"
   ]
  },
  {
   "cell_type": "markdown",
   "metadata": {},
   "source": [
    "## packages"
   ]
  },
  {
   "cell_type": "code",
   "execution_count": 1,
   "metadata": {},
   "outputs": [
    {
     "name": "stdout",
     "output_type": "stream",
     "text": [
      "The Zen of Python, by Tim Peters\n",
      "\n",
      "Beautiful is better than ugly.\n",
      "Explicit is better than implicit.\n",
      "Simple is better than complex.\n",
      "Complex is better than complicated.\n",
      "Flat is better than nested.\n",
      "Sparse is better than dense.\n",
      "Readability counts.\n",
      "Special cases aren't special enough to break the rules.\n",
      "Although practicality beats purity.\n",
      "Errors should never pass silently.\n",
      "Unless explicitly silenced.\n",
      "In the face of ambiguity, refuse the temptation to guess.\n",
      "There should be one-- and preferably only one --obvious way to do it.\n",
      "Although that way may not be obvious at first unless you're Dutch.\n",
      "Now is better than never.\n",
      "Although never is often better than *right* now.\n",
      "If the implementation is hard to explain, it's a bad idea.\n",
      "If the implementation is easy to explain, it may be a good idea.\n",
      "Namespaces are one honking great idea -- let's do more of those!\n"
     ]
    }
   ],
   "source": [
    "import this"
   ]
  },
  {
   "cell_type": "code",
   "execution_count": 4,
   "metadata": {},
   "outputs": [
    {
     "name": "stdout",
     "output_type": "stream",
     "text": [
      "0.8414709848078965\n",
      "0.8414709848078965\n",
      "0.8414709848078965\n",
      "0.5403023058681398 1.557407724654902\n",
      "0.8414709848078965\n"
     ]
    }
   ],
   "source": [
    "import numpy\n",
    "import numpy as np\n",
    "from numpy import sin\n",
    "from numpy import cos, tan\n",
    "from numpy import sin as s\n",
    "print (numpy.sin(1))\n",
    "print (np.sin(1))\n",
    "print (sin(1))\n",
    "print (cos(1), tan(1))\n",
    "print (s(1))"
   ]
  },
  {
   "cell_type": "code",
   "execution_count": 5,
   "metadata": {},
   "outputs": [
    {
     "name": "stdout",
     "output_type": "stream",
     "text": [
      "['/Users/jjc/data/pythonGuide', '/Users/jjc/anaconda3/bin', '/Users/jjc/anaconda3/lib/python37.zip', '/Users/jjc/anaconda3/lib/python3.7', '/Users/jjc/anaconda3/lib/python3.7/lib-dynload', '', '/Users/jjc/anaconda3/lib/python3.7/site-packages', '/Users/jjc/anaconda3/lib/python3.7/site-packages/aeosa', '/Users/jjc/anaconda3/lib/python3.7/site-packages/IPython/extensions', '/var/folders/bh/709r76vs1kq7s0734cfz7cw00000gn/T/tmpe_yeoczy']\n"
     ]
    },
    {
     "ename": "ModuleNotFoundError",
     "evalue": "No module named 'blabla'",
     "output_type": "error",
     "traceback": [
      "\u001b[0;31m---------------------------------------------------------------------------\u001b[0m",
      "\u001b[0;31mModuleNotFoundError\u001b[0m                       Traceback (most recent call last)",
      "\u001b[0;32m<ipython-input-5-e4161a826fa2>\u001b[0m in \u001b[0;36m<module>\u001b[0;34m\u001b[0m\n\u001b[1;32m      2\u001b[0m \u001b[0;32mimport\u001b[0m \u001b[0mos\u001b[0m\u001b[0;34m\u001b[0m\u001b[0;34m\u001b[0m\u001b[0m\n\u001b[1;32m      3\u001b[0m \u001b[0mprint\u001b[0m\u001b[0;34m(\u001b[0m\u001b[0msys\u001b[0m\u001b[0;34m.\u001b[0m\u001b[0mpath\u001b[0m\u001b[0;34m)\u001b[0m\u001b[0;34m\u001b[0m\u001b[0;34m\u001b[0m\u001b[0m\n\u001b[0;32m----> 4\u001b[0;31m \u001b[0;32mimport\u001b[0m \u001b[0mblabla\u001b[0m\u001b[0;34m\u001b[0m\u001b[0;34m\u001b[0m\u001b[0m\n\u001b[0m",
      "\u001b[0;31mModuleNotFoundError\u001b[0m: No module named 'blabla'"
     ]
    }
   ],
   "source": [
    "import sys\n",
    "import os\n",
    "print(sys.path)\n",
    "import blabla"
   ]
  },
  {
   "cell_type": "markdown",
   "metadata": {},
   "source": [
    "### $PYTHONPATH in shell is add into search directory of python"
   ]
  },
  {
   "cell_type": "markdown",
   "metadata": {},
   "source": [
    "├── a.py\n",
    "\n",
    "├── bb.py\n",
    "\n",
    "├── main.py\n",
    "\n",
    "└── module1\n",
    "\n",
    "    ├── aa.py\n",
    "    ├── bb.py\n",
    "    └── __init__.py\n",
    "    \n",
    "#======= main.py =========\n",
    "``` python\n",
    "print(\"in main.py\")\n",
    "import a\n",
    "import a\n",
    "from a import afunc\n",
    "import module1 # __init__.py changes a directory into a module in python. usually it is empty, but you can also import other modules in it (import ./bb.py here).\n",
    "from module1 import bb\n",
    "```\n",
    "#======= a.py =========\n",
    "``` python\n",
    "print(\"in a.py\")\n",
    "def afunc():\n",
    "    print('in afunc') # try a.afunc()\n",
    "```\n",
    "#======= \\_\\_init\\_\\_.py ========\n",
    "``` python\n",
    "print(\"in module1.__init__\")\n",
    "import bb # __init__py import bb.py, bb.py import aa.py\n",
    "```\n",
    "#======= aa.py =========\n",
    "``` python\n",
    "print(\"in aa.py\")\n",
    "```\n",
    "#======= bb.py =========\n",
    "``` python\n",
    "print(\"in bb.py\")\n",
    "import aa\n",
    "```\n",
    "#======= module1/bb.py =========\n",
    "``` python\n",
    "print(\"in module1/bb.py\")\n",
    "import aa\n",
    "```"
   ]
  },
  {
   "cell_type": "markdown",
   "metadata": {},
   "source": [
    "## Python data type"
   ]
  },
  {
   "cell_type": "code",
   "execution_count": 6,
   "metadata": {},
   "outputs": [
    {
     "name": "stdout",
     "output_type": "stream",
     "text": [
      "1\n",
      "1.0\n",
      "1\n",
      "[1, 1.0, '1', 'd', 123, 124, ['1', '2', 2, {'a': 'a'}]]\n",
      "{'a': 1, 'b': 1.0, 'c': '1', 'd': 'D'}\n",
      "(1, 1.0, '1', {'a': 1, 'b': 1.0, 'c': '1', 'd': 'D'})\n"
     ]
    }
   ],
   "source": [
    "a = 1\n",
    "b = 1.0\n",
    "c = \"1\"\n",
    "d = [a, b, c, \"d\", 123, 124, [\"1\", \"2\", 2, {\"a\":\"a\"}]]\n",
    "e = {\"a\":a, \"b\":b, \"c\":c, \"d\": \"D\"}\n",
    "f = (a,b,c,e)\n",
    "print(a)\n",
    "print(b)\n",
    "print(c)\n",
    "print(d)\n",
    "print(e)\n",
    "print(f)"
   ]
  },
  {
   "cell_type": "markdown",
   "metadata": {},
   "source": [
    "### number"
   ]
  },
  {
   "cell_type": "code",
   "execution_count": 2,
   "metadata": {},
   "outputs": [
    {
     "name": "stdout",
     "output_type": "stream",
     "text": [
      "1\n",
      "126398089759770130470836565901101381787307471806420349694530295030444231243794124161274565242247477546959505128426170734611671113954340997186975448534537415025524746451629220712749159038542307948565956107358113368753055345446460300506908245474133990940730256694087566176302228353446719309712318998529644224132659626205216618744528389882299037873620213620812420037885156683654346991\n",
      "67\n",
      "1.0\n"
     ]
    }
   ],
   "source": [
    "print (1) # int\n",
    "print (1231**123) # Theoretically, python support infinite length number calculation (but ...\n",
    "print (123**43 % 100)\n",
    "print (1.0) # float"
   ]
  },
  {
   "cell_type": "markdown",
   "metadata": {},
   "source": [
    "### List"
   ]
  },
  {
   "cell_type": "code",
   "execution_count": 4,
   "metadata": {},
   "outputs": [
    {
     "name": "stdout",
     "output_type": "stream",
     "text": [
      "[1, 2, 3, 4, 5, 6, 7, 8, 9, 10, 11, 12, 13]\n"
     ]
    }
   ],
   "source": [
    "a = [1,2,3,4,5,6,7,8,9,10,11,12,13]\n",
    "print(a)"
   ]
  },
  {
   "cell_type": "markdown",
   "metadata": {},
   "source": [
    "#### slice"
   ]
  },
  {
   "cell_type": "code",
   "execution_count": 5,
   "metadata": {
    "scrolled": true
   },
   "outputs": [
    {
     "name": "stdout",
     "output_type": "stream",
     "text": [
      "[1, 2, 3, 4, 5, 6, 7, 8, 9, 10, 11, 12, 13]\n",
      "2\n",
      "13\n",
      "[2, 3, 4, 5, 6, 7, 8, 9, 10, 11, 12, 13]\n",
      "[1, 2, 3, 4, 5, 6, 7, 8, 9, 10, 11, 12]\n",
      "[2, 3, 4, 5, 6, 7, 8, 9, 10, 11, 12]\n",
      "[3, 4, 5]\n",
      "[1, 3, 5]\n",
      "[1, 4, 7, 10, 13]\n",
      "[3, 5]\n"
     ]
    }
   ],
   "source": [
    "# [start:end:step]\n",
    "print(a[:])\n",
    "print(a[1])\n",
    "print(a[-1])\n",
    "print(a[1:])\n",
    "print(a[:-1])\n",
    "print(a[1:-1])\n",
    "print(a[2:5])\n",
    "print(a[0:6:2])\n",
    "print(a[::3])\n",
    "print(a[2:5:2])"
   ]
  },
  {
   "cell_type": "code",
   "execution_count": 10,
   "metadata": {},
   "outputs": [
    {
     "name": "stdout",
     "output_type": "stream",
     "text": [
      "[1, 2, 3, 4, 5, 6, 7, 8, 9, 10, 11, 12, 13]\n",
      "[1]\n",
      "[1, 2, 3, 4, 5, 6, 7, 8, 9, 10, 11, 12]\n",
      "[2, 3, 4, 5, 6, 7, 8, 9, 10, 11, 12, 13]\n",
      "[1, 2, 3, 4, 5, 6, 7, 8, 9, 10, 11, 12]\n",
      "[2, 3, 4, 5, 6, 7, 8, 9, 10, 11, 12]\n",
      "[3, 4, 5]\n",
      "[1, 3, 5]\n",
      "[1, 4, 7, 10, 13]\n",
      "[3, 5]\n"
     ]
    }
   ],
   "source": [
    "#print a[:]\n",
    "print(a[slice(None)])\n",
    "#print a[1]\n",
    "print(a[slice(1)])\n",
    "#print a[-1]\n",
    "print(a[slice(-1)])\n",
    "#print a[1:]\n",
    "print(a[slice(1,None)])\n",
    "#print a[:-1]\n",
    "print(a[slice(None,-1)])\n",
    "#print a[1:-1]\n",
    "print(a[slice(1,-1)])\n",
    "#print a[2:5]\n",
    "print(a[slice(2,5)])\n",
    "#print a[0:6:2]\n",
    "print(a[slice(0,6,2)])\n",
    "#print a[::3]\n",
    "print(a[slice(None, None, 3)])\n",
    "#print a[2:5:2]\n",
    "print(a[slice(2,5,2)])"
   ]
  },
  {
   "cell_type": "code",
   "execution_count": 11,
   "metadata": {},
   "outputs": [
    {
     "name": "stdout",
     "output_type": "stream",
     "text": [
      "[3, 5] [3, 5] [6, 6]\n",
      "[3, 5] [3, 5] [6, 6]\n"
     ]
    }
   ],
   "source": [
    "b = [1,2,3,4,5,6,7];c=[6,4,6,4,6,2,3,4]\n",
    "blabla = slice(2,5,2)\n",
    "print(a[2:5:2], b[2:5:2], c[2:5:2])\n",
    "print(a[blabla], b[blabla], c[blabla])"
   ]
  },
  {
   "cell_type": "code",
   "execution_count": 6,
   "metadata": {},
   "outputs": [
    {
     "name": "stdout",
     "output_type": "stream",
     "text": [
      "range(0, 10)\n",
      "range(2, 10)\n",
      "range(2, 10, 2)\n"
     ]
    }
   ],
   "source": [
    "# range(start, end, step)\n",
    "print(range(10))\n",
    "print(range(2,10))\n",
    "print(range(2,10,2))"
   ]
  },
  {
   "cell_type": "code",
   "execution_count": 15,
   "metadata": {},
   "outputs": [],
   "source": [
    "a = [1,3,5,7,9,\"6\",[7,8,9],10]"
   ]
  },
  {
   "cell_type": "markdown",
   "metadata": {},
   "source": [
    "```a.append   a.count    a.extend   a.index    a.insert   a.pop     a.remove   a.reverse  a.sort```"
   ]
  },
  {
   "cell_type": "code",
   "execution_count": 7,
   "metadata": {},
   "outputs": [
    {
     "name": "stdout",
     "output_type": "stream",
     "text": [
      "[1, 2, 3, 4, 5, 6, 7, 8, 9, 10, 11, 12, 13]\n",
      "[1, 2, 3, 4, 5, 6, 7, 8, 9, 10, 11, 12, 13, 10]\n",
      "2\n",
      "['hehe', 1, 2, 3, 4, 5, 6, 7, 8, 9, 10, 11, 12, 13, 10]\n",
      "4\n",
      "['hehe', 1, 2, 3, 5, 6, 7, 8, 9, 10, 11, 12, 13, 10]\n",
      "10\n",
      "['hehe', 1, 2, 3, 5, 6, 7, 8, 9, 10, 11, 12, 13]\n",
      "[13, 12, 11, 10, 9, 8, 7, 6, 5, 3, 2, 1, 'hehe']\n",
      "['hehe', 1, 2, 3, 5, 6, 7, 8, 9, 10, 11, 12, 13]\n",
      "[13, 12, 11, 10, 9, 8, 7, 6, 5, 3, 2, 1, 'hehe']\n"
     ]
    }
   ],
   "source": [
    "print(a)\n",
    "a.append(10)\n",
    "print(a)\n",
    "print(a.index(3))\n",
    "a.insert(0,\"hehe\")\n",
    "print(a)\n",
    "print(a.pop(4))\n",
    "print(a)\n",
    "print(a.pop())\n",
    "print(a)\n",
    "a.reverse() # a.reverse() changes a itself\n",
    "print(a)\n",
    "print(a[::-1])\n",
    "print(a)"
   ]
  },
  {
   "cell_type": "markdown",
   "metadata": {},
   "source": [
    "### tuple"
   ]
  },
  {
   "cell_type": "code",
   "execution_count": 17,
   "metadata": {},
   "outputs": [
    {
     "name": "stdout",
     "output_type": "stream",
     "text": [
      "<class 'tuple'> <class 'tuple'> <class 'int'> <class 'tuple'> <class 'tuple'>\n",
      "(1, 2, 3) (1, 2, 3) 1 (1,) (1,)\n"
     ]
    }
   ],
   "source": [
    "a = (1,2,3)\n",
    "b = 1,2,3\n",
    "c = (1)\n",
    "d = (1,)\n",
    "f = 1,\n",
    "print(type(a), type(b), type(c), type(d), type(f))\n",
    "print(a,b,c,d,f)"
   ]
  },
  {
   "cell_type": "markdown",
   "metadata": {},
   "source": [
    "a.count  a.index"
   ]
  },
  {
   "cell_type": "code",
   "execution_count": 8,
   "metadata": {},
   "outputs": [
    {
     "name": "stdout",
     "output_type": "stream",
     "text": [
      "[1, 'hehe', 3]\n"
     ]
    },
    {
     "ename": "TypeError",
     "evalue": "'tuple' object does not support item assignment",
     "output_type": "error",
     "traceback": [
      "\u001b[0;31m---------------------------------------------------------------------------\u001b[0m",
      "\u001b[0;31mTypeError\u001b[0m                                 Traceback (most recent call last)",
      "\u001b[0;32m<ipython-input-8-575c5a45ad83>\u001b[0m in \u001b[0;36m<module>\u001b[0;34m\u001b[0m\n\u001b[1;32m      3\u001b[0m \u001b[0ma\u001b[0m\u001b[0;34m[\u001b[0m\u001b[0;36m1\u001b[0m\u001b[0;34m]\u001b[0m \u001b[0;34m=\u001b[0m \u001b[0;34m\"hehe\"\u001b[0m\u001b[0;34m\u001b[0m\u001b[0;34m\u001b[0m\u001b[0m\n\u001b[1;32m      4\u001b[0m \u001b[0mprint\u001b[0m\u001b[0;34m(\u001b[0m\u001b[0ma\u001b[0m\u001b[0;34m)\u001b[0m\u001b[0;34m\u001b[0m\u001b[0;34m\u001b[0m\u001b[0m\n\u001b[0;32m----> 5\u001b[0;31m \u001b[0mb\u001b[0m\u001b[0;34m[\u001b[0m\u001b[0;36m1\u001b[0m\u001b[0;34m]\u001b[0m \u001b[0;34m=\u001b[0m \u001b[0;34m\"hehe\"\u001b[0m \u001b[0;31m# a tuple cannot be changed after its creation\u001b[0m\u001b[0;34m\u001b[0m\u001b[0;34m\u001b[0m\u001b[0m\n\u001b[0m",
      "\u001b[0;31mTypeError\u001b[0m: 'tuple' object does not support item assignment"
     ]
    }
   ],
   "source": [
    "a = [1,2,3]\n",
    "b = 1,2,3\n",
    "a[1] = \"hehe\"\n",
    "print(a)\n",
    "b[1] = \"hehe\" # a tuple cannot be changed after its creation"
   ]
  },
  {
   "cell_type": "markdown",
   "metadata": {},
   "source": [
    "### pack and unpack"
   ]
  },
  {
   "cell_type": "code",
   "execution_count": 9,
   "metadata": {},
   "outputs": [
    {
     "name": "stdout",
     "output_type": "stream",
     "text": [
      "1 2 3\n",
      "2 3 1\n"
     ]
    }
   ],
   "source": [
    "a = 1; b = 2; c = 3\n",
    "d, e, f = b, c, a\n",
    "print(a, b, c)\n",
    "print(d, e, f)"
   ]
  },
  {
   "cell_type": "code",
   "execution_count": 25,
   "metadata": {},
   "outputs": [
    {
     "name": "stdout",
     "output_type": "stream",
     "text": [
      "1\n",
      "hehe\n",
      "lala\n",
      "54\n",
      "23\n"
     ]
    }
   ],
   "source": [
    "a, b, c, d, (e, f) = 1, \"hehe\", \"lala\", 2.0, (54, 23)\n",
    "print(a)\n",
    "print(b)\n",
    "print(c)\n",
    "print(e)\n",
    "print(f)"
   ]
  },
  {
   "cell_type": "code",
   "execution_count": 27,
   "metadata": {},
   "outputs": [
    {
     "name": "stdout",
     "output_type": "stream",
     "text": [
      "1\n",
      "hehe\n",
      "lala\n",
      "54\n",
      "23\n"
     ]
    }
   ],
   "source": [
    "todo = [1, \"hehe\", \"lala\", 2.0, (54, 23)]\n",
    "a, b, c, d, (e,f) = todo\n",
    "print (a)\n",
    "print (b)\n",
    "print (c)\n",
    "print (e)\n",
    "print (f)"
   ]
  },
  {
   "cell_type": "code",
   "execution_count": 13,
   "metadata": {},
   "outputs": [
    {
     "name": "stdout",
     "output_type": "stream",
     "text": [
      "2 1\n"
     ]
    }
   ],
   "source": [
    "a=1;b=2;\n",
    "a,b = b,a\n",
    "print(a,b)"
   ]
  },
  {
   "cell_type": "markdown",
   "metadata": {},
   "source": [
    "### list derivation"
   ]
  },
  {
   "cell_type": "markdown",
   "metadata": {},
   "source": [
    "#### string"
   ]
  },
  {
   "cell_type": "code",
   "execution_count": 28,
   "metadata": {},
   "outputs": [
    {
     "name": "stdout",
     "output_type": "stream",
     "text": [
      "1 1.0 [1, 2, '3']\n"
     ]
    }
   ],
   "source": [
    "a=1\n",
    "b=1.0\n",
    "c=[1, 2, \"3\"]\n",
    "print(a, b, c)"
   ]
  },
  {
   "cell_type": "code",
   "execution_count": 30,
   "metadata": {},
   "outputs": [
    {
     "name": "stdout",
     "output_type": "stream",
     "text": [
      "<class 'int'> <class 'float'> <class 'list'>\n",
      "<class 'str'> <class 'str'> <class 'str'>\n",
      "1 1.0 [1, 2, '3']\n"
     ]
    },
    {
     "data": {
      "text/plain": [
       "int"
      ]
     },
     "execution_count": 30,
     "metadata": {},
     "output_type": "execute_result"
    }
   ],
   "source": [
    "aa = str(a)\n",
    "bb = str(b)\n",
    "cc = str(c)\n",
    "print(type(a), type(b), type(c))\n",
    "print(type(aa), type(bb), type(cc))\n",
    "print(aa, bb, cc)\n",
    "type(eval('1')) #eval can execute string commands"
   ]
  },
  {
   "cell_type": "code",
   "execution_count": 33,
   "metadata": {},
   "outputs": [
    {
     "name": "stdout",
     "output_type": "stream",
     "text": [
      "123\n",
      "456\n",
      "123456\n",
      "123456123456\n",
      "123456123456123456123456\n"
     ]
    }
   ],
   "source": [
    "a = \"123\"\n",
    "b = '456'\n",
    "c = a + b\n",
    "print(a)\n",
    "print(b)\n",
    "print(c)\n",
    "print(c + c)\n",
    "print(c*4)"
   ]
  },
  {
   "cell_type": "markdown",
   "metadata": {},
   "source": [
    "### for loop"
   ]
  },
  {
   "cell_type": "code",
   "execution_count": 34,
   "metadata": {},
   "outputs": [
    {
     "name": "stdout",
     "output_type": "stream",
     "text": [
      "<class 'list'> <class 'tuple'>\n",
      "[1, 2.0, '3', [4, 5, 6], {'2': 5}] (1, 2.0, '3', [4, 5, 6], {'2': 5})\n",
      "================\n",
      "1\n",
      "2.0\n",
      "3\n",
      "[4, 5, 6]\n",
      "{'2': 5}\n",
      "================\n",
      "1\n",
      "2.0\n",
      "3\n",
      "[4, 5, 6]\n",
      "{'2': 5}\n"
     ]
    }
   ],
   "source": [
    "a = [1,2.0,\"3\", [4,5,6], {\"2\":5}]\n",
    "b = tuple(a)\n",
    "print(type(a), type(b))\n",
    "print(a,b)\n",
    "print(\"================\")\n",
    "for each in a:\n",
    "    print(each)\n",
    "print(\"================\")\n",
    "for each in b:\n",
    "    print(each)"
   ]
  },
  {
   "cell_type": "code",
   "execution_count": 51,
   "metadata": {},
   "outputs": [
    {
     "name": "stdout",
     "output_type": "stream",
     "text": [
      "range(0, 10)\n",
      "['0', '1', '2', '3', '4', '5', '6', '7', '8', '9']\n",
      "['0', '1', '2', '3', '4', '5', '6', '7', '8', '9']\n"
     ]
    }
   ],
   "source": [
    "a = range(10)\n",
    "b = []\n",
    "for blabla in a:\n",
    "    b.append(str(blabla))\n",
    "c = [str(each) for each in a]\n",
    "print(a)\n",
    "print(b)\n",
    "print(c)"
   ]
  },
  {
   "cell_type": "code",
   "execution_count": 53,
   "metadata": {
    "scrolled": false
   },
   "outputs": [
    {
     "name": "stdout",
     "output_type": "stream",
     "text": [
      "0\n",
      "2\n",
      "4\n",
      "6\n",
      "8\n",
      "10\n",
      "12\n"
     ]
    }
   ],
   "source": [
    "for i in range(20):\n",
    "    if i%2 == 0:\n",
    "        print(i)\n",
    "    else:\n",
    "        continue\n",
    "    if i>10:\n",
    "        break"
   ]
  },
  {
   "cell_type": "code",
   "execution_count": 54,
   "metadata": {},
   "outputs": [
    {
     "name": "stdout",
     "output_type": "stream",
     "text": [
      "The count is: 0\n",
      "The count is: 1\n",
      "The count is: 2\n",
      "The count is: 3\n",
      "The count is: 4\n",
      "The count is: 5\n",
      "The count is: 6\n",
      "The count is: 7\n",
      "The count is: 8\n",
      "Good bye!\n"
     ]
    }
   ],
   "source": [
    "count = 0\n",
    "while (count < 9):\n",
    "   print('The count is:', count)\n",
    "   count = count + 1\n",
    "\n",
    "print(\"Good bye!\")"
   ]
  },
  {
   "cell_type": "code",
   "execution_count": 55,
   "metadata": {},
   "outputs": [
    {
     "name": "stdout",
     "output_type": "stream",
     "text": [
      "[1, 3, 5, 7, 9]\n",
      "[2, 4, 6, 8, 10]\n",
      "['1:2', '1:4', '1:6', '1:8', '1:10', '3:2', '3:4', '3:6', '3:8', '3:10', '5:2', '5:4', '5:6', '5:8', '5:10', '7:2', '7:4', '7:6', '7:8', '7:10', '9:2', '9:4', '9:6', '9:8', '9:10']\n"
     ]
    }
   ],
   "source": [
    "a = [1,3,5,7,9]\n",
    "b = [2,4,6,8,10]\n",
    "c = [str(eachA)+':'+str(eachB) for eachA in a for eachB in b]\n",
    "print(a)\n",
    "print(b)\n",
    "print(c)"
   ]
  },
  {
   "cell_type": "markdown",
   "metadata": {},
   "source": [
    "### String"
   ]
  },
  {
   "cell_type": "code",
   "execution_count": 56,
   "metadata": {},
   "outputs": [
    {
     "name": "stdout",
     "output_type": "stream",
     "text": [
      "12312312\n",
      "\thehe\n",
      "\n",
      ", df\n",
      "12312312, df\n"
     ]
    }
   ],
   "source": [
    "a = \"12312312\"\n",
    "b = \", df\"\n",
    "c = \"\\thehe\\n\"\n",
    "print(a)\n",
    "print(c)\n",
    "print(b)\n",
    "print(a + b)"
   ]
  },
  {
   "cell_type": "code",
   "execution_count": 19,
   "metadata": {},
   "outputs": [
    {
     "name": "stdout",
     "output_type": "stream",
     "text": [
      "123456789\n",
      "123456789\n"
     ]
    }
   ],
   "source": [
    "a = str(123456789)\n",
    "aa = \"123456789\"\n",
    "print(a)\n",
    "print(aa)"
   ]
  },
  {
   "cell_type": "markdown",
   "metadata": {},
   "source": [
    "```aa.capitalize  aa.decode      aa.expandtabs  aa.index       aa.isdigit     aa.istitle     aa.ljust       aa.partition   aa.rindex      aa.rsplit      aa.splitlines  aa.swapcase    aa.upper\n",
    "aa.center      aa.encode      aa.find        aa.isalnum     aa.islower     aa.isupper     aa.lower       aa.replace     aa.rjust       aa.rstrip      aa.startswith  aa.title       aa.zfill\n",
    "aa.count       aa.endswith    aa.format      aa.isalpha     aa.isspace     aa.join        aa.lstrip      aa.rfind       aa.rpartition  aa.split       aa.strip       aa.translate```\n",
    "look "
   ]
  },
  {
   "cell_type": "code",
   "execution_count": 22,
   "metadata": {},
   "outputs": [
    {
     "name": "stdout",
     "output_type": "stream",
     "text": [
      "2345678\n",
      "5\n",
      "True\n",
      "False\n"
     ]
    }
   ],
   "source": [
    "print(aa[1:-1]) # slice\n",
    "print(aa.index('6')) # get the lowest index of '6'\n",
    "print(aa.isdigit())\n",
    "print(aa.isalpha())"
   ]
  },
  {
   "cell_type": "code",
   "execution_count": 25,
   "metadata": {},
   "outputs": [
    {
     "name": "stdout",
     "output_type": "stream",
     "text": [
      "   asdf   asfd    \n",
      "asdf   asfd\n"
     ]
    }
   ],
   "source": [
    "a = \"   asdf   asfd    \"\n",
    "print(a)\n",
    "print(a.strip()) # remove the leading and trailing whitespace"
   ]
  },
  {
   "cell_type": "code",
   "execution_count": 30,
   "metadata": {},
   "outputs": [
    {
     "name": "stdout",
     "output_type": "stream",
     "text": [
      "range(0, 10)\n",
      "<class 'list'> ['0', '1', '2', '3', '4', '5', '6', '7', '8', '9'] ['0', '1', '2', '3', '4', '5', '6', '7', '8', '9']\n",
      "<class 'str'> 0, 1, 2, 3, 4, 5, 6, 7, 8, 9\n"
     ]
    }
   ],
   "source": [
    "a = range(10)\n",
    "b = [str(each) for each in a] # pythonic\n",
    "print(a)\n",
    "print(type(b), b, str(b))\n",
    "c = \", \"\n",
    "d = c.join(b) # concatenate strings with \", \"\n",
    "print(type(d), d)"
   ]
  },
  {
   "cell_type": "code",
   "execution_count": 31,
   "metadata": {
    "scrolled": true
   },
   "outputs": [
    {
     "name": "stdout",
     "output_type": "stream",
     "text": [
      "['1,', '2,', '3,', '4,', '5,', '6,', '7']\n",
      "['1,', '2,', '3,', '4,', '5,', '6,', '7']\n",
      "['1', ' 2', ' 3', ' 4', ' 5', ' 6', ' 7']\n",
      "['1', '2', '3', '4', '5', '6', '7']\n",
      "['1, 2, 3, ', ', 6, 7']\n",
      "['1, 2, 3, 4, 5, 6, 7']\n"
     ]
    }
   ],
   "source": [
    "a = '1, 2, 3, 4, 5, 6, 7'\n",
    "print (a.split())\n",
    "print (a.split(\" \"))\n",
    "print (a.split(\",\"))\n",
    "print (a.split(\", \"))\n",
    "print (a.split('4, 5'))\n",
    "print (a.split(\"fds\"))"
   ]
  },
  {
   "cell_type": "markdown",
   "metadata": {},
   "source": [
    "### \\\\"
   ]
  },
  {
   "cell_type": "code",
   "execution_count": 33,
   "metadata": {},
   "outputs": [
    {
     "name": "stdout",
     "output_type": "stream",
     "text": [
      "abc123\n",
      "abc\"123\n",
      "abc\\123\n",
      "abc\\\\123\n",
      "\\bhi\\b.*\\bLucy\\b\n",
      "0\\d\\d-\\d\\d\\d\\d\\d\\d\\d\\d\n",
      "abc\\123\n",
      "abc\\\"123\n"
     ]
    }
   ],
   "source": [
    "a = \"abc123\"; print (a)\n",
    "a = \"abc\\\"123\"; print (a) # how to print \"\n",
    "a = \"abc\\\\123\"; print (a) # how to print \\\n",
    "a = \"abc\\\\\\\\123\"; print (a) # how to print \\\\\n",
    "a = \"\\\\bhi\\\\b.*\\\\bLucy\\\\b\"; print (a)\n",
    "a = \"0\\\\d\\\\d-\\\\d\\\\d\\\\d\\\\d\\\\d\\\\d\\\\d\\\\d\"; print (a)\n",
    "\n",
    "a = r\"abc\\123\"; print (a)\n",
    "a = r\"abc\\\"123\"; print (a)"
   ]
  },
  {
   "cell_type": "markdown",
   "metadata": {},
   "source": [
    "## Dict"
   ]
  },
  {
   "cell_type": "code",
   "execution_count": 35,
   "metadata": {},
   "outputs": [
    {
     "name": "stdout",
     "output_type": "stream",
     "text": [
      "{'a': 1, 'b': 1.0, 'c': '1', 'd': [1, 2, 3], 'e': {'a': 2}}\n",
      "1\n",
      "2\n",
      "2\n"
     ]
    }
   ],
   "source": [
    "a = {\"a\":1, \"b\":1.0, \"c\": \"1\", \"d\":[1,2,3], \"e\":{\"a\":2}} # {key: value}\n",
    "print (a)\n",
    "print (a[\"a\"])\n",
    "print (a[\"d\"][1])\n",
    "print (a[\"e\"][\"a\"])"
   ]
  },
  {
   "cell_type": "markdown",
   "metadata": {},
   "source": [
    "```a.clear       a.fromkeys    a.has_key     a.iteritems   a.itervalues  a.pop         a.setdefault  a.values      a.viewkeys\n",
    "a.copy        a.get         a.items       a.iterkeys    a.keys        a.popitem     a.update      a.viewitems   a.viewvalues```"
   ]
  },
  {
   "cell_type": "code",
   "execution_count": 37,
   "metadata": {},
   "outputs": [
    {
     "name": "stdout",
     "output_type": "stream",
     "text": [
      "dict_keys(['a', 'b', 'c', 'd', 'e'])\n",
      "1.0\n",
      "dict_values([1, '1', [1, 2, 3], {'a': 2}])\n",
      "{'a': 0, 'c': '1', 'd': [1, 2, 3], 'e': {'a': 2}, 'f': 'hehe'}\n"
     ]
    }
   ],
   "source": [
    "# dict has no order\n",
    "a = {\"a\":1, \"b\":1.0, \"c\": \"1\", \"d\":[1,2,3], \"e\":{\"a\":2}}\n",
    "print (a.keys())\n",
    "print (a.pop(\"b\")) # remove from dict\n",
    "print (a.values())\n",
    "a.update({\"f\":\"hehe\", \"a\":0}) # add/change dict\n",
    "print (a)"
   ]
  },
  {
   "cell_type": "code",
   "execution_count": 38,
   "metadata": {
    "scrolled": true
   },
   "outputs": [
    {
     "name": "stdout",
     "output_type": "stream",
     "text": [
      "1\n"
     ]
    },
    {
     "ename": "KeyError",
     "evalue": "'c'",
     "output_type": "error",
     "traceback": [
      "\u001b[0;31m---------------------------------------------------------------------------\u001b[0m",
      "\u001b[0;31mKeyError\u001b[0m                                  Traceback (most recent call last)",
      "\u001b[0;32m<ipython-input-38-db349d42004d>\u001b[0m in \u001b[0;36m<module>\u001b[0;34m\u001b[0m\n\u001b[1;32m      1\u001b[0m \u001b[0ma\u001b[0m \u001b[0;34m=\u001b[0m \u001b[0;34m{\u001b[0m\u001b[0;34m\"a\"\u001b[0m\u001b[0;34m:\u001b[0m\u001b[0;36m1\u001b[0m\u001b[0;34m,\u001b[0m \u001b[0;34m\"b\"\u001b[0m\u001b[0;34m:\u001b[0m\u001b[0;36m2\u001b[0m\u001b[0;34m}\u001b[0m\u001b[0;34m\u001b[0m\u001b[0;34m\u001b[0m\u001b[0m\n\u001b[1;32m      2\u001b[0m \u001b[0mprint\u001b[0m\u001b[0;34m(\u001b[0m\u001b[0ma\u001b[0m\u001b[0;34m[\u001b[0m\u001b[0;34m\"a\"\u001b[0m\u001b[0;34m]\u001b[0m\u001b[0;34m)\u001b[0m\u001b[0;34m\u001b[0m\u001b[0;34m\u001b[0m\u001b[0m\n\u001b[0;32m----> 3\u001b[0;31m \u001b[0mprint\u001b[0m\u001b[0;34m(\u001b[0m\u001b[0ma\u001b[0m\u001b[0;34m[\u001b[0m\u001b[0;34m\"c\"\u001b[0m\u001b[0;34m]\u001b[0m\u001b[0;34m)\u001b[0m\u001b[0;34m\u001b[0m\u001b[0;34m\u001b[0m\u001b[0m\n\u001b[0m",
      "\u001b[0;31mKeyError\u001b[0m: 'c'"
     ]
    }
   ],
   "source": [
    "a = {\"a\":1, \"b\":2}\n",
    "print(a[\"a\"])\n",
    "print(a[\"c\"])"
   ]
  },
  {
   "cell_type": "markdown",
   "metadata": {},
   "source": [
    "### If"
   ]
  },
  {
   "cell_type": "code",
   "execution_count": 44,
   "metadata": {},
   "outputs": [
    {
     "name": "stdout",
     "output_type": "stream",
     "text": [
      "a<=0\n",
      "a==0\n",
      "a is False\n",
      "b is True\n",
      "c is True\n",
      "d is True\n",
      "f is False\n",
      "g is None\n",
      "len(h)!=0\n"
     ]
    }
   ],
   "source": [
    "a = 0\n",
    "b = 1\n",
    "c = 1.0\n",
    "d = \"awsl\"\n",
    "f = \"\"\n",
    "g = None\n",
    "h = [1,2,3]\n",
    "\n",
    "if a>0:\n",
    "    print (\"a>0\")\n",
    "else:\n",
    "    print (\"a<=0\")\n",
    "    \n",
    "if a>0:\n",
    "    print (\"a>0\")\n",
    "elif a==0:\n",
    "    print (\"a==0\")\n",
    "else:\n",
    "    print (\"a<0\")\n",
    "\n",
    "if not a:\n",
    "    print (\"a is False\")\n",
    "    \n",
    "if b:\n",
    "    print (\"b is True\")\n",
    "\n",
    "if c:\n",
    "    print (\"c is True\")\n",
    "if d:\n",
    "    print (\"d is True\")\n",
    "if not f:\n",
    "    print (\"f is False\")\n",
    "if g is None:\n",
    "    print (\"g is None\")\n",
    "else:\n",
    "    print (\"g is not None\")\n",
    "\n",
    "if len(h):\n",
    "    print (\"len(h)!=0\")\n",
    "else:\n",
    "    print (\"len(h)==0\")"
   ]
  },
  {
   "cell_type": "code",
   "execution_count": 46,
   "metadata": {},
   "outputs": [
    {
     "name": "stdout",
     "output_type": "stream",
     "text": [
      "1\n",
      "lalala\n",
      "d is None\n"
     ]
    }
   ],
   "source": [
    "a = {\"a\":1, \"b\":2}\n",
    "print (a.get(\"a\", \"lalala\")) # Return the value for key if key is in the dictionary, else default.\n",
    "print (a.get(\"c\", \"lalala\"))\n",
    "d = a.get(\"c\")\n",
    "if d is None:\n",
    "    print (\"d is None\")"
   ]
  },
  {
   "cell_type": "code",
   "execution_count": 49,
   "metadata": {},
   "outputs": [
    {
     "name": "stdout",
     "output_type": "stream",
     "text": [
      "a[ a ]= 1\n",
      "a[ b ]= 2.0\n",
      "a[ c ]= hehe\n",
      "a[ d ]= 5\n",
      "===========================\n",
      "dict_keys(['a', 'b', 'c', 'd'])\n",
      "===========================\n",
      "a[ a ]= 1\n",
      "a[ b ]= 2.0\n",
      "a[ c ]= hehe\n",
      "a[ d ]= 5\n"
     ]
    }
   ],
   "source": [
    "# how to get every element in a dict\n",
    "a = {\"a\":1, \"b\":2.0, \"c\":\"hehe\", \"d\":5}\n",
    "for eachKey in a:\n",
    "    print (\"a[\", eachKey, \"]=\", a[eachKey])\n",
    "print (\"===========================\")\n",
    "print (a.keys())\n",
    "print (\"===========================\")\n",
    "for eachKey in a.keys():\n",
    "    print (\"a[\", eachKey, \"]=\", a[eachKey])"
   ]
  },
  {
   "cell_type": "markdown",
   "metadata": {},
   "source": [
    "## memory use"
   ]
  },
  {
   "cell_type": "code",
   "execution_count": 50,
   "metadata": {},
   "outputs": [],
   "source": [
    "a = range(100000000)"
   ]
  },
  {
   "cell_type": "code",
   "execution_count": 51,
   "metadata": {},
   "outputs": [
    {
     "name": "stdout",
     "output_type": "stream",
     "text": [
      "4536219376 4536219376\n"
     ]
    }
   ],
   "source": [
    "b = a\n",
    "print(id(a), id(b))"
   ]
  },
  {
   "cell_type": "code",
   "execution_count": 52,
   "metadata": {},
   "outputs": [
    {
     "name": "stdout",
     "output_type": "stream",
     "text": [
      "4465570960 4465570960\n",
      "4465570992 4465570960\n",
      "2 1\n"
     ]
    }
   ],
   "source": [
    "c=1\n",
    "d=c\n",
    "print(id(c), id(d))\n",
    "c = 2\n",
    "print(id(c), id(d))\n",
    "print(c,d)"
   ]
  },
  {
   "cell_type": "code",
   "execution_count": 56,
   "metadata": {},
   "outputs": [
    {
     "name": "stdout",
     "output_type": "stream",
     "text": [
      "4531867072 4531864592\n",
      "[3, 2, 1] [1, 2, 3]\n",
      "4530236464 4530236464\n",
      "[3, 2, 1] [3, 2, 1]\n",
      "4531864592 4531864592\n",
      "[4, 5, 3] [4, 5, 3]\n"
     ]
    }
   ],
   "source": [
    "a = [1, 2, 3]\n",
    "b = [1, 2, 3]\n",
    "a.reverse()\n",
    "print(id(a), id(b))\n",
    "print(a, b)\n",
    "\n",
    "a = [1, 2, 3]\n",
    "b = a\n",
    "b.reverse()\n",
    "print(id(a), id(b)) # be careful with \"=\" in python! sometimes it conveys the symbol rather than the value.\n",
    "print(a, b)\n",
    "\n",
    "a = [1, 2, 3]\n",
    "b = a\n",
    "a[0] = 4\n",
    "b[1] = 5\n",
    "print(id(a), id(b))\n",
    "print(a, b)"
   ]
  },
  {
   "cell_type": "code",
   "execution_count": 58,
   "metadata": {},
   "outputs": [
    {
     "name": "stdout",
     "output_type": "stream",
     "text": [
      "4531871008 4532033248\n",
      "[1, 2, 3] [1, 2, 3]\n",
      "[1, 2, 3] [3, 2, 1]\n"
     ]
    }
   ],
   "source": [
    "import copy\n",
    "a = [1,2,3]\n",
    "b = copy.copy(a) # deep copy\n",
    "print(id(a), id(b))\n",
    "print(a, b)\n",
    "b.reverse()\n",
    "print(a, b)"
   ]
  },
  {
   "cell_type": "markdown",
   "metadata": {},
   "source": [
    "## function (is very fancy)"
   ]
  },
  {
   "cell_type": "code",
   "execution_count": 65,
   "metadata": {
    "scrolled": true
   },
   "outputs": [
    {
     "name": "stdout",
     "output_type": "stream",
     "text": [
      "None None 6 123\n"
     ]
    },
    {
     "ename": "TypeError",
     "evalue": "unsupported operand type(s) for +: 'int' and 'str'",
     "output_type": "error",
     "traceback": [
      "\u001b[0;31m---------------------------------------------------------------------------\u001b[0m",
      "\u001b[0;31mTypeError\u001b[0m                                 Traceback (most recent call last)",
      "\u001b[0;32m<ipython-input-65-fb507d0688c3>\u001b[0m in \u001b[0;36m<module>\u001b[0;34m\u001b[0m\n\u001b[1;32m     12\u001b[0m \u001b[0;34m\u001b[0m\u001b[0m\n\u001b[1;32m     13\u001b[0m \u001b[0mprint\u001b[0m\u001b[0;34m(\u001b[0m\u001b[0ma0\u001b[0m\u001b[0;34m,\u001b[0m\u001b[0ma\u001b[0m\u001b[0;34m,\u001b[0m\u001b[0mb\u001b[0m\u001b[0;34m,\u001b[0m\u001b[0md\u001b[0m\u001b[0;34m)\u001b[0m\u001b[0;34m\u001b[0m\u001b[0;34m\u001b[0m\u001b[0m\n\u001b[0;32m---> 14\u001b[0;31m \u001b[0me\u001b[0m \u001b[0;34m=\u001b[0m \u001b[0mf2\u001b[0m\u001b[0;34m(\u001b[0m\u001b[0;36m1\u001b[0m\u001b[0;34m,\u001b[0m \u001b[0;36m2\u001b[0m\u001b[0;34m,\u001b[0m \u001b[0;34m\"3\"\u001b[0m\u001b[0;34m)\u001b[0m \u001b[0;31m# variables are not defined in python\u001b[0m\u001b[0;34m\u001b[0m\u001b[0;34m\u001b[0m\u001b[0m\n\u001b[0m",
      "\u001b[0;32m<ipython-input-65-fb507d0688c3>\u001b[0m in \u001b[0;36mf2\u001b[0;34m(a, b, c)\u001b[0m\n\u001b[1;32m      4\u001b[0m     \u001b[0;32mpass\u001b[0m\u001b[0;34m\u001b[0m\u001b[0;34m\u001b[0m\u001b[0m\n\u001b[1;32m      5\u001b[0m \u001b[0;32mdef\u001b[0m \u001b[0mf2\u001b[0m\u001b[0;34m(\u001b[0m\u001b[0ma\u001b[0m\u001b[0;34m,\u001b[0m \u001b[0mb\u001b[0m\u001b[0;34m,\u001b[0m \u001b[0mc\u001b[0m\u001b[0;34m)\u001b[0m\u001b[0;34m:\u001b[0m\u001b[0;34m\u001b[0m\u001b[0;34m\u001b[0m\u001b[0m\n\u001b[0;32m----> 6\u001b[0;31m     \u001b[0;32mreturn\u001b[0m \u001b[0ma\u001b[0m\u001b[0;34m+\u001b[0m\u001b[0mb\u001b[0m\u001b[0;34m+\u001b[0m\u001b[0mc\u001b[0m\u001b[0;34m\u001b[0m\u001b[0;34m\u001b[0m\u001b[0m\n\u001b[0m\u001b[1;32m      7\u001b[0m \u001b[0;34m\u001b[0m\u001b[0m\n\u001b[1;32m      8\u001b[0m \u001b[0ma0\u001b[0m \u001b[0;34m=\u001b[0m \u001b[0mf0\u001b[0m\u001b[0;34m(\u001b[0m\u001b[0;34m)\u001b[0m\u001b[0;34m\u001b[0m\u001b[0;34m\u001b[0m\u001b[0m\n",
      "\u001b[0;31mTypeError\u001b[0m: unsupported operand type(s) for +: 'int' and 'str'"
     ]
    }
   ],
   "source": [
    "def f0():\n",
    "    return\n",
    "def f1():\n",
    "    pass\n",
    "def f2(a, b, c):\n",
    "    return a+b+c\n",
    "\n",
    "a0 = f0()\n",
    "a = f1()\n",
    "b = f2(1,2,3)\n",
    "d = f2(\"1\",\"2\",\"3\")\n",
    "\n",
    "print(a0,a,b,d)\n",
    "e = f2(1, 2, \"3\") # variables are not defined in python"
   ]
  },
  {
   "cell_type": "code",
   "execution_count": 67,
   "metadata": {},
   "outputs": [
    {
     "name": "stdout",
     "output_type": "stream",
     "text": [
      "1 123\n",
      "1 2\n",
      "1 1\n",
      "10 1\n",
      "10 20\n",
      "1 10\n"
     ]
    },
    {
     "ename": "TypeError",
     "evalue": "f1() takes from 0 to 2 positional arguments but 3 were given",
     "output_type": "error",
     "traceback": [
      "\u001b[0;31m---------------------------------------------------------------------------\u001b[0m",
      "\u001b[0;31mTypeError\u001b[0m                                 Traceback (most recent call last)",
      "\u001b[0;32m<ipython-input-67-f49810a1e9f5>\u001b[0m in \u001b[0;36m<module>\u001b[0;34m\u001b[0m\n\u001b[1;32m     11\u001b[0m \u001b[0mf1\u001b[0m\u001b[0;34m(\u001b[0m\u001b[0;36m10\u001b[0m\u001b[0;34m,\u001b[0m\u001b[0;36m20\u001b[0m\u001b[0;34m)\u001b[0m\u001b[0;34m\u001b[0m\u001b[0;34m\u001b[0m\u001b[0m\n\u001b[1;32m     12\u001b[0m \u001b[0mf1\u001b[0m\u001b[0;34m(\u001b[0m\u001b[0mb\u001b[0m\u001b[0;34m=\u001b[0m\u001b[0;36m10\u001b[0m\u001b[0;34m)\u001b[0m\u001b[0;34m\u001b[0m\u001b[0;34m\u001b[0m\u001b[0m\n\u001b[0;32m---> 13\u001b[0;31m \u001b[0mf1\u001b[0m\u001b[0;34m(\u001b[0m\u001b[0;36m1\u001b[0m\u001b[0;34m,\u001b[0m\u001b[0;36m2\u001b[0m\u001b[0;34m,\u001b[0m\u001b[0;36m3\u001b[0m\u001b[0;34m)\u001b[0m\u001b[0;34m\u001b[0m\u001b[0;34m\u001b[0m\u001b[0m\n\u001b[0m",
      "\u001b[0;31mTypeError\u001b[0m: f1() takes from 0 to 2 positional arguments but 3 were given"
     ]
    }
   ],
   "source": [
    "def f0(a, b=123): # you can set default arguments\n",
    "    print(a,b)\n",
    "    \n",
    "def f1(a=1, b=1):\n",
    "    print(a,b)\n",
    "    \n",
    "f0(1)\n",
    "f0(1,2)\n",
    "f1()\n",
    "f1(10)\n",
    "f1(10,20)\n",
    "f1(b=10)\n",
    "f1(1,2,3)"
   ]
  },
  {
   "cell_type": "code",
   "execution_count": 68,
   "metadata": {},
   "outputs": [
    {
     "name": "stdout",
     "output_type": "stream",
     "text": [
      "1 ()\n",
      "1 (2,)\n",
      "1 (2, 3, 4, 5, 6, 7, 8, 9)\n"
     ]
    }
   ],
   "source": [
    "def f0(a, *args):\n",
    "    print(a, args)\n",
    "f0(1)\n",
    "f0(1,2)\n",
    "f0(1,2,3,4,5,6,7,8,9)"
   ]
  },
  {
   "cell_type": "code",
   "execution_count": 69,
   "metadata": {},
   "outputs": [
    {
     "name": "stdout",
     "output_type": "stream",
     "text": [
      "1 () {}\n",
      "1 (2,) {}\n",
      "1 (2,) {'b': 1}\n",
      "1 (2, 3, 4, 5) {'b': 1, 'c': 'hehe', 'asdf': 'adfasdf'}\n"
     ]
    }
   ],
   "source": [
    "def f0(a, *args, **kwargs):\n",
    "    print(a, args, kwargs)\n",
    "f0(1)\n",
    "f0(1, 2)\n",
    "f0(1, 2, b=1)\n",
    "f0(1, 2,3,4,5, b=1, c=\"hehe\", asdf=\"adfasdf\")\n",
    "\n",
    "# f0(1, 2,3, c=\"hehe\", 4,5, b=1, asdf=\"adfasdf\")\n",
    "# SyntaxError: non-keyword arg after keyword arg"
   ]
  },
  {
   "cell_type": "code",
   "execution_count": 72,
   "metadata": {},
   "outputs": [
    {
     "name": "stdout",
     "output_type": "stream",
     "text": [
      "1 1\n",
      "1 2\n"
     ]
    },
    {
     "ename": "TypeError",
     "evalue": "f0() takes 1 positional argument but 2 were given",
     "output_type": "error",
     "traceback": [
      "\u001b[0;31m---------------------------------------------------------------------------\u001b[0m",
      "\u001b[0;31mTypeError\u001b[0m                                 Traceback (most recent call last)",
      "\u001b[0;32m<ipython-input-72-dcfdbb1babe7>\u001b[0m in \u001b[0;36m<module>\u001b[0;34m\u001b[0m\n\u001b[1;32m      3\u001b[0m \u001b[0mf0\u001b[0m\u001b[0;34m(\u001b[0m\u001b[0;36m1\u001b[0m\u001b[0;34m)\u001b[0m\u001b[0;34m\u001b[0m\u001b[0;34m\u001b[0m\u001b[0m\n\u001b[1;32m      4\u001b[0m \u001b[0mf0\u001b[0m\u001b[0;34m(\u001b[0m\u001b[0;36m1\u001b[0m\u001b[0;34m,\u001b[0m \u001b[0mb\u001b[0m\u001b[0;34m=\u001b[0m\u001b[0;36m2\u001b[0m\u001b[0;34m)\u001b[0m\u001b[0;34m\u001b[0m\u001b[0;34m\u001b[0m\u001b[0m\n\u001b[0;32m----> 5\u001b[0;31m \u001b[0mf0\u001b[0m\u001b[0;34m(\u001b[0m\u001b[0;36m1\u001b[0m\u001b[0;34m,\u001b[0m \u001b[0;36m2\u001b[0m\u001b[0;34m)\u001b[0m\u001b[0;34m\u001b[0m\u001b[0;34m\u001b[0m\u001b[0m\n\u001b[0m",
      "\u001b[0;31mTypeError\u001b[0m: f0() takes 1 positional argument but 2 were given"
     ]
    }
   ],
   "source": [
    "def f0(a, *, b=1):\n",
    "    print(a, b)\n",
    "f0(1)\n",
    "f0(1, b=2)\n",
    "f0(1, 2)"
   ]
  },
  {
   "cell_type": "markdown",
   "metadata": {},
   "source": [
    "## Class\n",
    "[Class](https://docs.python.org/3.7/tutorial/classes.html) is very useful when you are writing a large software, or when you are using one."
   ]
  },
  {
   "cell_type": "code",
   "execution_count": 17,
   "metadata": {},
   "outputs": [
    {
     "name": "stdout",
     "output_type": "stream",
     "text": [
      "Doc: I'm a dog. I can shout.\n",
      "Wang, wang, wang. I am Dog\n",
      "Dog 1 canine\n",
      "Wang, wang, wang. I am xiaohei\n",
      "xiaohei 1 canine\n",
      "Wang, wang, wang. I am xiaobai\n",
      "xiaobai 2 cat\n",
      "Dog: name is xiaohei\n",
      "Dog: name is xiaohei\n"
     ]
    }
   ],
   "source": [
    "class Dog():\n",
    "    \"Doc: I'm a dog. I can shout.\" # doc string. output with __doc__\n",
    "    kind = 'canine'         # data attribute, shared by all instances. you can change it afterwards --> be careful with lists!\n",
    "    def __init__(self, name=\"Dog\", age=\"1\"): # set an initial state\n",
    "        self.name = name # data attribute, unique to each instance\n",
    "        self.age = age\n",
    "    \n",
    "    def shout(self): # method\n",
    "        print(\"Wang, wang, wang. I am {}\".format(self.name))\n",
    "    \n",
    "    def __str__(self): # magic method\n",
    "        return \"Dog: name is {}\".format(self.name)\n",
    "\n",
    "\n",
    "gou = Dog()\n",
    "xiaohei = Dog(\"xiaohei\")\n",
    "xiaobai = Dog(\"xiaobai\", age=2)\n",
    "print(gou.__doc__)\n",
    "gou.shout()\n",
    "print(gou.name, gou.age, gou.kind)\n",
    "xiaohei.shout()\n",
    "print(xiaohei.name, xiaohei.age, xiaohei.kind)\n",
    "xiaobai.shout()\n",
    "xiaobai.kind = 'cat'\n",
    "print(xiaobai.name, xiaobai.age, xiaobai.kind)\n",
    "\n",
    "t = str(xiaohei) # use magic method __str__\n",
    "print(t)\n",
    "print(xiaohei.__str__())"
   ]
  },
  {
   "cell_type": "code",
   "execution_count": 18,
   "metadata": {},
   "outputs": [
    {
     "name": "stdout",
     "output_type": "stream",
     "text": [
      "[('2019-09-17T05:47:12', 100.94977594881024), ('2019-09-17T05:48:12', 100.48628183708264), ('2019-09-17T05:49:12', 100.70538656358183), ('2019-09-17T05:50:12', 100.83702018521517), ('2019-09-17T05:51:12', 100.31099068397778), ('2019-09-17T05:52:12', 100.75832202704552), ('2019-09-17T05:53:12', 100.68121424719196), ('2019-09-17T05:54:12', 100.16242279122643), ('2019-09-17T05:55:12', 100.20460818155092), ('2019-09-17T05:56:12', 100.47551661235407), ('2019-09-17T05:57:12', 100.71637103313095), ('2019-09-17T05:58:12', 100.05513161793574), ('2019-09-17T05:59:12', 100.79571835701239), ('2019-09-17T06:00:12', 100.37064380597417), ('2019-09-17T06:01:12', 100.52656684507956), ('2019-09-17T06:02:12', 100.12447889253168), ('2019-09-17T06:03:12', 100.96406639022379), ('2019-09-17T06:04:12', 100.47686160402814), ('2019-09-17T06:05:12', 100.67003513401279), ('2019-09-17T06:06:12', 100.22638923465779)]\n",
      "====================================\n",
      "['2019-09-17T05:47:12', '2019-09-17T05:48:12', '2019-09-17T05:49:12', '2019-09-17T05:50:12', '2019-09-17T05:51:12', '2019-09-17T05:52:12', '2019-09-17T05:53:12', '2019-09-17T05:54:12', '2019-09-17T05:55:12', '2019-09-17T05:56:12', '2019-09-17T05:57:12', '2019-09-17T05:58:12', '2019-09-17T05:59:12', '2019-09-17T06:00:12', '2019-09-17T06:01:12', '2019-09-17T06:02:12', '2019-09-17T06:03:12', '2019-09-17T06:04:12', '2019-09-17T06:05:12', '2019-09-17T06:06:12']\n",
      "[100.94977594881024, 100.48628183708264, 100.70538656358183, 100.83702018521517, 100.31099068397778, 100.75832202704552, 100.68121424719196, 100.16242279122643, 100.20460818155092, 100.47551661235407, 100.71637103313095, 100.05513161793574, 100.79571835701239, 100.37064380597417, 100.52656684507956, 100.12447889253168, 100.96406639022379, 100.47686160402814, 100.67003513401279, 100.22638923465779]\n",
      "[100.70538656358183, 100.83702018521517, 100.31099068397778]\n",
      "20\n",
      "20\n"
     ]
    }
   ],
   "source": [
    "class VariableStar():\n",
    "    def __init__(self, values, name=\"000\"):\n",
    "        self.pairs = values\n",
    "        self.name  = name\n",
    "        self.times = [each[0] for each in values]\n",
    "        self.flux = [each[1] for each in values]\n",
    "    \n",
    "    def __getitem__(self, key):\n",
    "        return self.flux[key]\n",
    "    \n",
    "    def __len__(self):\n",
    "        return len(self.pairs)\n",
    "   \n",
    "import time\n",
    "import random\n",
    "def getTimeStr(t):\n",
    "    return time.strftime(\"%Y-%m-%dT%H:%M:%S\", time.gmtime(t))\n",
    "\n",
    "a = [(getTimeStr(eachTime+time.time()) ,100+random.random()) for eachTime in range(-60*20, 0, 60)]\n",
    "print(a)\n",
    "\n",
    "s1 = VariableStar(a)\n",
    "print (\"====================================\")\n",
    "print (s1.times)\n",
    "print (s1.flux)\n",
    "print (s1[2:5])\n",
    "print (len(a))\n",
    "print (len(s1))"
   ]
  },
  {
   "cell_type": "markdown",
   "metadata": {},
   "source": [
    "### iterator"
   ]
  },
  {
   "cell_type": "code",
   "execution_count": 1,
   "metadata": {},
   "outputs": [
    {
     "name": "stdout",
     "output_type": "stream",
     "text": [
      "<class 'range'> <class 'range_iterator'>\n",
      "0\n",
      "1\n",
      "2\n",
      "3\n",
      "4\n",
      "5\n",
      "6\n",
      "7\n",
      "8\n",
      "9\n",
      "===========================\n",
      "0\n",
      "1\n",
      "2\n",
      "3\n",
      "4\n",
      "5\n",
      "6\n",
      "7\n",
      "8\n",
      "9\n"
     ]
    }
   ],
   "source": [
    "a = range(10)\n",
    "aa = a.__iter__()\n",
    "print(type(a), type(aa))\n",
    "for i in a:\n",
    "    print(i)\n",
    "print(\"===========================\")\n",
    "for i in aa:\n",
    "    print(i)"
   ]
  },
  {
   "cell_type": "code",
   "execution_count": 2,
   "metadata": {},
   "outputs": [
    {
     "name": "stdout",
     "output_type": "stream",
     "text": [
      "range(0, 5)\n",
      "<class 'range'> <class 'range_iterator'>\n",
      "0\n",
      "1\n",
      "2\n",
      "3\n",
      "4\n"
     ]
    },
    {
     "ename": "StopIteration",
     "evalue": "",
     "output_type": "error",
     "traceback": [
      "\u001b[0;31m---------------------------------------------------------------------------\u001b[0m",
      "\u001b[0;31mStopIteration\u001b[0m                             Traceback (most recent call last)",
      "\u001b[0;32m<ipython-input-2-20156f89712a>\u001b[0m in \u001b[0;36m<module>\u001b[0;34m\u001b[0m\n\u001b[1;32m      8\u001b[0m \u001b[0mprint\u001b[0m \u001b[0;34m(\u001b[0m\u001b[0mnext\u001b[0m\u001b[0;34m(\u001b[0m\u001b[0maa\u001b[0m\u001b[0;34m)\u001b[0m\u001b[0;34m)\u001b[0m\u001b[0;34m\u001b[0m\u001b[0;34m\u001b[0m\u001b[0m\n\u001b[1;32m      9\u001b[0m \u001b[0mprint\u001b[0m \u001b[0;34m(\u001b[0m\u001b[0mnext\u001b[0m\u001b[0;34m(\u001b[0m\u001b[0maa\u001b[0m\u001b[0;34m)\u001b[0m\u001b[0;34m)\u001b[0m\u001b[0;34m\u001b[0m\u001b[0;34m\u001b[0m\u001b[0m\n\u001b[0;32m---> 10\u001b[0;31m \u001b[0mprint\u001b[0m \u001b[0;34m(\u001b[0m\u001b[0mnext\u001b[0m\u001b[0;34m(\u001b[0m\u001b[0maa\u001b[0m\u001b[0;34m)\u001b[0m\u001b[0;34m)\u001b[0m\u001b[0;34m\u001b[0m\u001b[0;34m\u001b[0m\u001b[0m\n\u001b[0m",
      "\u001b[0;31mStopIteration\u001b[0m: "
     ]
    }
   ],
   "source": [
    "a = range(5)\n",
    "aa = a.__iter__()\n",
    "print (a)\n",
    "print (type(a), type(aa))\n",
    "print (next(aa))\n",
    "print (next(aa))\n",
    "print (next(aa))\n",
    "print (next(aa))\n",
    "print (next(aa))\n",
    "print (next(aa))"
   ]
  },
  {
   "cell_type": "markdown",
   "metadata": {},
   "source": [
    "## try/catch/else"
   ]
  },
  {
   "cell_type": "markdown",
   "metadata": {},
   "source": [
    "http://www.runoob.com/python/python-exceptions.html"
   ]
  },
  {
   "cell_type": "code",
   "execution_count": 4,
   "metadata": {},
   "outputs": [
    {
     "name": "stdout",
     "output_type": "stream",
     "text": [
      "no error\n",
      "i am here 123\n"
     ]
    }
   ],
   "source": [
    "try:\n",
    "    a = int(\"123\")\n",
    "except ValueError as e:\n",
    "    print(\"have error\")\n",
    "    print(e)\n",
    "else:\n",
    "    print(\"no error\")\n",
    "print(\"i am here\", a)"
   ]
  },
  {
   "cell_type": "code",
   "execution_count": 5,
   "metadata": {},
   "outputs": [
    {
     "name": "stdout",
     "output_type": "stream",
     "text": [
      "have error\n",
      "invalid literal for int() with base 10: '123a'\n",
      "i am here\n"
     ]
    }
   ],
   "source": [
    "try:\n",
    "    a = int(\"123a\")\n",
    "except ValueError as e:\n",
    "    print (\"have error\")\n",
    "    print (e)\n",
    "else:\n",
    "    print (\"no error\")\n",
    "print (\"i am here\")"
   ]
  },
  {
   "cell_type": "markdown",
   "metadata": {},
   "source": [
    "## File"
   ]
  },
  {
   "cell_type": "code",
   "execution_count": 6,
   "metadata": {},
   "outputs": [
    {
     "name": "stdout",
     "output_type": "stream",
     "text": [
      "blabla\r\n",
      "hehe\r\n",
      "haha\r\n",
      "123123\r\n",
      "918273412\r\n",
      "aflkasjdf\r\n",
      "lalalalalalalalalala\r\n"
     ]
    }
   ],
   "source": [
    "cat testFile.txt"
   ]
  },
  {
   "cell_type": "code",
   "execution_count": 7,
   "metadata": {},
   "outputs": [
    {
     "name": "stdout",
     "output_type": "stream",
     "text": [
      "blabla\n",
      "\n",
      "hehe\n",
      "\n",
      "haha\n",
      "\n",
      "123123\n",
      "\n",
      "918273412\n",
      "\n",
      "aflkasjdf\n",
      "\n",
      "lalalalalalalalalala\n",
      "\n",
      "line 0 is blabla\n",
      "line 1 is hehe\n",
      "line 2 is haha\n",
      "line 3 is 123123\n",
      "line 4 is 918273412\n",
      "line 5 is aflkasjdf\n",
      "line 6 is lalalalalalalalalala\n"
     ]
    }
   ],
   "source": [
    "f = open(\"testFile.txt\", \"r\")\n",
    "# f.readlines()\n",
    "# f.read\n",
    "for eachLine in f:\n",
    "    print(eachLine)\n",
    "f = open(\"testFile.txt\", \"r\")\n",
    "for i, eachLine in enumerate(f):\n",
    "    print(\"line {} is {}\".format(i, eachLine[:-1]))\n",
    "f.close()"
   ]
  },
  {
   "cell_type": "code",
   "execution_count": 8,
   "metadata": {
    "scrolled": true
   },
   "outputs": [],
   "source": [
    "with open(\"outFile.txt\",'w') as f:\n",
    "    f.write(\"hehe without newline\")\n",
    "    f.write(\"test\\n\")\n",
    "    f.write(\"hehe with newline\\n\")"
   ]
  },
  {
   "cell_type": "code",
   "execution_count": 9,
   "metadata": {},
   "outputs": [
    {
     "name": "stdout",
     "output_type": "stream",
     "text": [
      "hehe without newlinetest\r\n",
      "hehe with newline\r\n"
     ]
    }
   ],
   "source": [
    "cat \"outFile.txt\""
   ]
  },
  {
   "cell_type": "markdown",
   "metadata": {},
   "source": [
    "## Style and document"
   ]
  },
  {
   "cell_type": "markdown",
   "metadata": {},
   "source": [
    "### pep8\n",
    "https://www.python.org/dev/peps/pep-0008/"
   ]
  },
  {
   "cell_type": "markdown",
   "metadata": {},
   "source": [
    "### document"
   ]
  },
  {
   "cell_type": "markdown",
   "metadata": {},
   "source": [
    "http://docs.astropy.org/en/stable/\n",
    "\n",
    "Created using Sphinx 1.3.5"
   ]
  },
  {
   "cell_type": "markdown",
   "metadata": {},
   "source": [
    "##### exmaple\n",
    "http://docs.astropy.org/en/stable/api/astropy.coordinates.cartesian_to_spherical.html?highlight=cartesian_to_spherical#astropy.coordinates.cartesian_to_spherical\n",
    "\n",
    "https://github.com/astropy/astropy/blob/master/astropy/coordinates/funcs.py\n",
    "```python\n",
    "def cartesian_to_spherical(x, y, z):\n",
    "    \"\"\"\n",
    "    Converts 3D rectangular cartesian coordinates to spherical polar\n",
    "    coordinates.\n",
    "    Note that the resulting angles are latitude/longitude or\n",
    "    elevation/azimuthal form.  I.e., the origin is along the equator\n",
    "    rather than at the north pole.\n",
    "    .. note::\n",
    "        This function simply wraps functionality provided by the\n",
    "        `~astropy.coordinates.CartesianRepresentation` and\n",
    "        `~astropy.coordinates.SphericalRepresentation` classes.  In general,\n",
    "        for both performance and readability, we suggest using these classes\n",
    "        directly.  But for situations where a quick one-off conversion makes\n",
    "        sense, this function is provided.\n",
    "    Parameters\n",
    "    ----------\n",
    "    x : scalar, array-like, or `~astropy.units.Quantity`\n",
    "        The first cartesian coordinate.\n",
    "    y : scalar, array-like, or `~astropy.units.Quantity`\n",
    "        The second cartesian coordinate.\n",
    "    z : scalar, array-like, or `~astropy.units.Quantity`\n",
    "        The third cartesian coordinate.\n",
    "    Returns\n",
    "    -------\n",
    "    r : `~astropy.units.Quantity`\n",
    "        The radial coordinate (in the same units as the inputs).\n",
    "    lat : `~astropy.units.Quantity`\n",
    "        The latitude in radians\n",
    "    lon : `~astropy.units.Quantity`\n",
    "        The longitude in radians\n",
    "    \"\"\"\n",
    "    if not hasattr(x, 'unit'):\n",
    "        x = x * u.dimensionless_unscaled\n",
    "    if not hasattr(y, 'unit'):\n",
    "        y = y * u.dimensionless_unscaled\n",
    "    if not hasattr(z, 'unit'):\n",
    "        z = z * u.dimensionless_unscaled\n",
    "\n",
    "    cart = CartesianRepresentation(x, y, z)\n",
    "    sph = cart.represent_as(SphericalRepresentation)\n",
    "\n",
    "    return sph.distance, sph.lat, sph.lon\n",
    "```"
   ]
  },
  {
   "cell_type": "markdown",
   "metadata": {},
   "source": [
    "# API Documentation Browser and Code Snippet Manager\n",
    "http://alternativeto.net/software/dashexpander/"
   ]
  },
  {
   "cell_type": "markdown",
   "metadata": {},
   "source": [
    "# homework1\n",
    "\n",
    "* this homework is to test your skills to use basic python syntax and tools, so do **not** use packages like numpy or pandas to parse the file (we will use them in the next lecture)\n",
    "* before doing this homework, you should\n",
    "    * understand all the python syntax in lecture1\n",
    "    * search google (or bing or baidu...) and learn to use the \"time\" and \"timedate\" package\n",
    "    * search google (or bing or baidu...) and learn to use the \"format\" function, which is an method of Class String.\n",
    "```\n",
    "we have a datafile of one variabe star, the first few lines is the header (or meta data) of this file,\n",
    "    which record the basic information of this variable star and the format of the latter data.\n",
    "\n",
    "you need to:\n",
    "    define a class named VariableStar, then use the data file name to init it and get a instance.\n",
    "        like this:   someSpecificVariableStar = VariableStar(\"data1.txt\")\n",
    "        Tips: use string method \"stripe\", \"split\"\n",
    "\n",
    "    parse all the information into properties of this class.\n",
    "        For example, I want to use someSpecificVariableStar.name to get the name of this variable\n",
    "\n",
    "    store all the data into one dict: self.data\n",
    "        store V band magnitudes in to self.data[\"V\"] and so on for other bands\n",
    "            you should store the magnitudes in type float (not in string)\n",
    "\n",
    "    make some magic function, so\n",
    "        I can use someSpecificVariableStar[\"V\"] to get a list of V band magnitude\n",
    "        I can use len(someSpecificVariableStar) to get the length of the data\n",
    "\n",
    "    define a function name \"print\"\n",
    "        so i can use someSpecificVariableStar.print() to print all the data in format like:\n",
    "            name: <name of the star>\n",
    "            time                      U            V            B\n",
    "            2014-11-23T10:23:10\n",
    "            ......\n",
    "        use \"nan\" in the print for missing data\n",
    "        try to align your print in proper way\n",
    "\n",
    "    write Docs\n",
    "\n",
    "    write a Demo to show that all the requirements are satisfied\n",
    "```\n"
   ]
  },
  {
   "cell_type": "code",
   "execution_count": null,
   "metadata": {},
   "outputs": [],
   "source": []
  }
 ],
 "metadata": {
  "kernelspec": {
   "display_name": "Python 3",
   "language": "python",
   "name": "python3"
  },
  "language_info": {
   "codemirror_mode": {
    "name": "ipython",
    "version": 3
   },
   "file_extension": ".py",
   "mimetype": "text/x-python",
   "name": "python",
   "nbconvert_exporter": "python",
   "pygments_lexer": "ipython3",
   "version": "3.7.4"
  }
 },
 "nbformat": 4,
 "nbformat_minor": 2
}
