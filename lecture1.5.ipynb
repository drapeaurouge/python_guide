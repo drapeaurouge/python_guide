{
 "cells": [
  {
   "cell_type": "markdown",
   "metadata": {},
   "source": [
    "# Object & Class"
   ]
  },
  {
   "cell_type": "code",
   "execution_count": 7,
   "metadata": {},
   "outputs": [
    {
     "name": "stdout",
     "output_type": "stream",
     "text": [
      "1\n",
      "Animal: my name is haha\n"
     ]
    }
   ],
   "source": [
    "import numpy as np\n",
    "\n",
    "class Animal():\n",
    "    \"Animal: I'm something.\" # doc string. output with __doc__\n",
    "    def __init__(self, name=\"Animal\", age=\"1\", weight=np.nan):\n",
    "        self.name = name # data attribute, unique to each instance\n",
    "        self.age = age\n",
    "        self.weight = weight\n",
    "        \n",
    "    def __str__(self): # magic method\n",
    "        return \"Animal: my name is {}\".format(self.name)\n",
    "    \n",
    "    def grow(self):\n",
    "        self.age += 1\n",
    "\n",
    "a = Animal('haha', weight=1e-3)\n",
    "print(a.age)\n",
    "print(str(a))"
   ]
  },
  {
   "cell_type": "markdown",
   "metadata": {},
   "source": [
    "## Subclass & Inheritance"
   ]
  },
  {
   "cell_type": "code",
   "execution_count": 8,
   "metadata": {},
   "outputs": [
    {
     "name": "stdout",
     "output_type": "stream",
     "text": [
      "5\n",
      "6\n",
      "Wang, wang, wang. I am hehe\n",
      "Dog: name is hehe\n"
     ]
    }
   ],
   "source": [
    "class Dog(Animal):\n",
    "    \"Doc: I'm a dog. I can shout.\" # \n",
    "    # if no __init__ method is defined in a subclass, the __init__ method of the parent class will be inherited.\n",
    "    \n",
    "    def shout(self): # method\n",
    "        print(\"Wang, wang, wang. I am {}\".format(self.name))\n",
    "    \n",
    "    def __str__(self): # you can change a method in a subclass\n",
    "        return \"Dog: name is {}\".format(self.name)\n",
    "\n",
    "b = Dog('hehe', 5)\n",
    "print(b.age)\n",
    "b.grow() # method inherited from class Animal\n",
    "print(b.age)\n",
    "b.shout()\n",
    "print(str(b))"
   ]
  },
  {
   "cell_type": "code",
   "execution_count": 9,
   "metadata": {},
   "outputs": [
    {
     "name": "stdout",
     "output_type": "stream",
     "text": [
      "2\n"
     ]
    }
   ],
   "source": [
    "class Cat(Animal):\n",
    "    \"Cat: I'm a cat. I can shout.\"\n",
    "    def __init__(self, name=\"Cat\", age=\"1\", weight=np.nan, color='white'):\n",
    "        self.color = color\n",
    "        super(Cat, self).__init__(name, age, weight) # Use super() to inherit __init__ method from class Animal. Or you can define a new __init__\n",
    "    \n",
    "    def shout(self):\n",
    "        print(\"Miao, miao, miao. I am {}\".format(self.name))\n",
    "    \n",
    "    def __str__(self): # you can change a method in a subclass\n",
    "        return \"Cat: name is {}\".format(self.name)\n",
    "\n",
    "c = Cat(age=2, color='black')\n",
    "print(c.age)"
   ]
  },
  {
   "cell_type": "code",
   "execution_count": 10,
   "metadata": {},
   "outputs": [],
   "source": [
    "class Pet():\n",
    "    def __init__(self, owner='someone'):\n",
    "        self.owner = owner\n",
    "        \n",
    "class Corgi(Pet, Dog): # multiple inheritance\n",
    "    def __init__(self, name=\"Corgi\", age=\"1\", weight=np.nan, color='white', owner='someone'):\n",
    "        Pet.__init__(self, owner)\n",
    "        Dog.__init__(self, name, age, weight)"
   ]
  },
  {
   "cell_type": "code",
   "execution_count": 11,
   "metadata": {},
   "outputs": [
    {
     "name": "stdout",
     "output_type": "stream",
     "text": [
      "queen\n",
      "1\n",
      "ahhh\n"
     ]
    }
   ],
   "source": [
    "d = Corgi(name='ahhh', owner='queen')\n",
    "print(d.owner)\n",
    "print(d.age)\n",
    "print(d.name)"
   ]
  },
  {
   "cell_type": "markdown",
   "metadata": {},
   "source": [
    "## Duck typing\n",
    "If something looks like a duck, swims like a duck, and quacks like a duck, then it is a duck."
   ]
  },
  {
   "cell_type": "code",
   "execution_count": 13,
   "metadata": {},
   "outputs": [
    {
     "name": "stdout",
     "output_type": "stream",
     "text": [
      "3\n",
      "2\n"
     ]
    }
   ],
   "source": [
    "a = Corgi(age=3)\n",
    "b = Cat(age=2)\n",
    "for something in [a, b]:\n",
    "    print(something.age)"
   ]
  },
  {
   "cell_type": "code",
   "execution_count": null,
   "metadata": {},
   "outputs": [],
   "source": []
  }
 ],
 "metadata": {
  "kernelspec": {
   "display_name": "Python 3",
   "language": "python",
   "name": "python3"
  },
  "language_info": {
   "codemirror_mode": {
    "name": "ipython",
    "version": 3
   },
   "file_extension": ".py",
   "mimetype": "text/x-python",
   "name": "python",
   "nbconvert_exporter": "python",
   "pygments_lexer": "ipython3",
   "version": "3.7.4"
  }
 },
 "nbformat": 4,
 "nbformat_minor": 2
}
