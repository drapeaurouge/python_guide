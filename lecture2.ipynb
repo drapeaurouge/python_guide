{
 "cells": [
  {
   "cell_type": "markdown",
   "metadata": {},
   "source": [
    "# Numpy\n",
    "http://www.numpy.org/"
   ]
  },
  {
   "cell_type": "markdown",
   "metadata": {},
   "source": [
    "# Scipy\n",
    "http://www.scipy.org/"
   ]
  },
  {
   "cell_type": "markdown",
   "metadata": {},
   "source": [
    "# Astropy\n",
    "http://www.astropy.org/"
   ]
  },
  {
   "cell_type": "markdown",
   "metadata": {},
   "source": [
    "# Matplotlib"
   ]
  },
  {
   "cell_type": "markdown",
   "metadata": {},
   "source": [
    "## Pandas\n",
    "\n",
    "\n",
    "Examples from [gully](https://github.com/gully)\n",
    "* https://github.com/BrownDwarf/ApJdataFrames"
   ]
  },
  {
   "cell_type": "markdown",
   "metadata": {},
   "source": [
    "From https://github.com/jonathansick/awesome-astronomy\n",
    "- [AplPy](http://aplpy.github.io) - a Python module for astronomical imaging data.\n",
    "- [Astropy](http://astropy.org) - Core package for Astronomy in Python.\n",
    "- [AstroML](http://www.astroml.org) - Companion textbook *Statistics, Data Mining, and Machine Learning in Astronomy*.\n",
    "- [Emcee](http://dan.iel.fm/emcee/current/) - Seriously kick-ass MCMC.\n",
    "- [GalPy](https://github.com/jobovy/galpy) - Galactic Dynamics in python.\n",
    "- [The LSST Stack](https://confluence.lsstcorp.org/display/LSWUG/Using+the+LSST+Stack) Conda-installable codes for working with LSST simulation data and some existing data.\n",
    "- pyephem\n",
    "- Multiprocessing\n",
    "- Cython\n",
    "- argparser ..."
   ]
  },
  {
   "cell_type": "markdown",
   "metadata": {},
   "source": [
    "# Organize data\n",
    "\n",
    "## numpy.ndarray\n",
    "    simple but powerful\n",
    "## numpy.ma.MaskedArray\n",
    "    ndarray with mask\n",
    "## astropy.table\n",
    "    specifically designed for astro table\n",
    "## pandas.DataFrame\n",
    "    good at data clearning, suitable for collect and clean data from real life"
   ]
  },
  {
   "cell_type": "markdown",
   "metadata": {},
   "source": [
    "# Basic about numpy.ndarray"
   ]
  },
  {
   "cell_type": "code",
   "execution_count": 1,
   "metadata": {},
   "outputs": [
    {
     "ename": "TypeError",
     "evalue": "can only concatenate list (not \"int\") to list",
     "output_type": "error",
     "traceback": [
      "\u001b[0;31m---------------------------------------------------------------------------\u001b[0m",
      "\u001b[0;31mTypeError\u001b[0m                                 Traceback (most recent call last)",
      "\u001b[0;32m<ipython-input-1-ea7970f5a744>\u001b[0m in \u001b[0;36m<module>\u001b[0;34m\u001b[0m\n\u001b[1;32m      1\u001b[0m \u001b[0ma\u001b[0m \u001b[0;34m=\u001b[0m \u001b[0;34m[\u001b[0m\u001b[0;36m1\u001b[0m\u001b[0;34m,\u001b[0m\u001b[0;36m2\u001b[0m\u001b[0;34m,\u001b[0m\u001b[0;36m3\u001b[0m\u001b[0;34m]\u001b[0m\u001b[0;34m\u001b[0m\u001b[0;34m\u001b[0m\u001b[0m\n\u001b[0;32m----> 2\u001b[0;31m \u001b[0mb\u001b[0m \u001b[0;34m=\u001b[0m \u001b[0ma\u001b[0m \u001b[0;34m+\u001b[0m \u001b[0;36m1\u001b[0m\u001b[0;34m\u001b[0m\u001b[0;34m\u001b[0m\u001b[0m\n\u001b[0m",
      "\u001b[0;31mTypeError\u001b[0m: can only concatenate list (not \"int\") to list"
     ]
    }
   ],
   "source": [
    "a = [1,2,3]\n",
    "b = a + 1"
   ]
  },
  {
   "cell_type": "code",
   "execution_count": 2,
   "metadata": {},
   "outputs": [
    {
     "data": {
      "text/plain": [
       "array([2, 3, 4])"
      ]
     },
     "execution_count": 2,
     "metadata": {},
     "output_type": "execute_result"
    }
   ],
   "source": [
    "import numpy as np\n",
    "a = np.array([1,2,3])\n",
    "a + 1"
   ]
  },
  {
   "cell_type": "code",
   "execution_count": 3,
   "metadata": {},
   "outputs": [
    {
     "name": "stdout",
     "output_type": "stream",
     "text": [
      "[0.  0.5 1.  1.5 2.  2.5 3.  3.5 4.  4.5 5.  5.5 6.  6.5 7.  7.5 8.  8.5\n",
      " 9.  9.5]\n",
      "float64\n",
      "[ 0.          0.47942554  0.84147098  0.99749499  0.90929743  0.59847214\n",
      "  0.14112001 -0.35078323 -0.7568025  -0.97753012 -0.95892427 -0.70554033\n",
      " -0.2794155   0.21511999  0.6569866   0.93799998  0.98935825  0.79848711\n",
      "  0.41211849 -0.07515112]\n",
      "4.75\n"
     ]
    }
   ],
   "source": [
    "a = np.arange(0,10,0.5)\n",
    "print(a)\n",
    "print(a.dtype)\n",
    "print(np.sin(a))\n",
    "print(np.mean(a))"
   ]
  },
  {
   "cell_type": "raw",
   "metadata": {},
   "source": [
    "a.\n",
    "  all()          astype()       conj()         data           fill()         item()\n",
    "  any()          base           conjugate()    diagonal()     flags          itemset()\n",
    "  argmax()       byteswap()     copy()         dot()          flat           itemsize\n",
    "  argmin()       choose()       ctypes         dtype          flatten()      max()\n",
    "  argpartition() clip()         cumprod()      dump()         getfield()     mean()\n",
    "  argsort()      compress()     cumsum()       dumps()        imag           min()\n",
    "  nbytes         ptp()          resize()       size           swapaxes()     tostring()\n",
    "  ndim           put()          round()        sort()         T              trace()\n",
    "  newbyteorder() ravel()        searchsorted() squeeze()      take()         transpose()\n",
    "  nonzero()      real           setfield()     std()          tobytes()      var()\n",
    "  partition()    repeat()       setflags()     strides        tofile()       view()\n",
    "  prod()         reshape()      shape          sum()          tolist()"
   ]
  },
  {
   "cell_type": "code",
   "execution_count": null,
   "metadata": {},
   "outputs": [],
   "source": []
  },
  {
   "cell_type": "code",
   "execution_count": 10,
   "metadata": {},
   "outputs": [
    {
     "data": {
      "text/plain": [
       "array([False, False, False, False, False, False, False,  True,  True,\n",
       "        True,  True,  True,  True,  True,  True,  True,  True,  True,\n",
       "        True,  True])"
      ]
     },
     "execution_count": 10,
     "metadata": {},
     "output_type": "execute_result"
    }
   ],
   "source": [
    "a>3"
   ]
  },
  {
   "cell_type": "code",
   "execution_count": 11,
   "metadata": {},
   "outputs": [
    {
     "data": {
      "text/plain": [
       "array([3.5, 4. , 4.5, 5. , 5.5, 6. , 6.5, 7. , 7.5, 8. , 8.5, 9. , 9.5])"
      ]
     },
     "execution_count": 11,
     "metadata": {},
     "output_type": "execute_result"
    }
   ],
   "source": [
    "a[a>3]"
   ]
  },
  {
   "cell_type": "code",
   "execution_count": 12,
   "metadata": {},
   "outputs": [
    {
     "data": {
      "text/plain": [
       "(array([ 7,  8,  9, 10, 11, 12, 13, 14, 15, 16, 17, 18, 19]),)"
      ]
     },
     "execution_count": 12,
     "metadata": {},
     "output_type": "execute_result"
    }
   ],
   "source": [
    "np.where(a>3)"
   ]
  },
  {
   "cell_type": "code",
   "execution_count": 13,
   "metadata": {},
   "outputs": [
    {
     "data": {
      "text/plain": [
       "array([3.5, 4. , 4.5, 5. , 5.5, 6. , 6.5, 7. , 7.5, 8. , 8.5, 9. , 9.5])"
      ]
     },
     "execution_count": 13,
     "metadata": {},
     "output_type": "execute_result"
    }
   ],
   "source": [
    "a[np.where(a>3)]"
   ]
  },
  {
   "cell_type": "code",
   "execution_count": 14,
   "metadata": {},
   "outputs": [
    {
     "data": {
      "text/plain": [
       "(array([3.5]), array([3.5]))"
      ]
     },
     "execution_count": 14,
     "metadata": {},
     "output_type": "execute_result"
    }
   ],
   "source": [
    "a[(a>3)&(a<4)], a[np.logical_and(a>3, a<4)]"
   ]
  },
  {
   "cell_type": "code",
   "execution_count": 16,
   "metadata": {},
   "outputs": [
    {
     "name": "stdout",
     "output_type": "stream",
     "text": [
      "[0.  0.5 1.  1.5 2.  2.5 3.  3.5 4.  4.5 5.  5.5 6.  6.5 7.  7.5 8.  8.5\n",
      " 9.  9.5]\n",
      "[0 0 1 1 2 2 3 3 4 4 5 5 6 6 7 7 8 8 9 9]\n",
      "int64\n"
     ]
    }
   ],
   "source": [
    "print(a)\n",
    "b = a.astype(np.int)\n",
    "print(b)\n",
    "print(b.dtype)"
   ]
  },
  {
   "cell_type": "code",
   "execution_count": 18,
   "metadata": {},
   "outputs": [
    {
     "name": "stdout",
     "output_type": "stream",
     "text": [
      "[0.0e+000 0.0e+000 4.9e-324 4.9e-324 9.9e-324 9.9e-324 1.5e-323 1.5e-323\n",
      " 2.0e-323 2.0e-323 2.5e-323 2.5e-323 3.0e-323 3.0e-323 3.5e-323 3.5e-323\n",
      " 4.0e-323 4.0e-323 4.4e-323 4.4e-323]\n"
     ]
    }
   ],
   "source": [
    "b.dtype = np.float64 # be careful when changing dtype\n",
    "print(b)"
   ]
  },
  {
   "cell_type": "code",
   "execution_count": 22,
   "metadata": {},
   "outputs": [
    {
     "name": "stdout",
     "output_type": "stream",
     "text": [
      "(2, 3, 4)\n",
      "[[[ 0  1  2  3]\n",
      "  [ 4  5  6  7]\n",
      "  [ 8  9 10 11]]\n",
      "\n",
      " [[12 13 14 15]\n",
      "  [16 17 18 19]\n",
      "  [20 21 22 23]]]\n"
     ]
    }
   ],
   "source": [
    "a = np.arange(24).reshape((2,3,4))\n",
    "print(a.shape)\n",
    "print(a)"
   ]
  },
  {
   "cell_type": "code",
   "execution_count": 23,
   "metadata": {},
   "outputs": [
    {
     "name": "stdout",
     "output_type": "stream",
     "text": [
      "[[ 6]\n",
      " [18]]\n",
      "\n",
      "[1 5 9]\n",
      "\n",
      "[[[ 0  1  2  3]\n",
      "  [ 4  5  6  7]\n",
      "  [ 8  9 10 11]]\n",
      "\n",
      " [[12 13 14 15]\n",
      "  [16 17 18 19]\n",
      "  [20 21 22 23]]]\n"
     ]
    }
   ],
   "source": [
    "print(a[:,1:2,2])\n",
    "print('')\n",
    "print(a[0,:,1])\n",
    "print('')\n",
    "print(a[:])"
   ]
  },
  {
   "cell_type": "code",
   "execution_count": 28,
   "metadata": {},
   "outputs": [
    {
     "name": "stdout",
     "output_type": "stream",
     "text": [
      "['id', 'x', 'y', 'ra', 'dec']\n",
      "['U20', 'i8', 'int16', 'f8', 'float16']\n",
      "[('id', 'U20'), ('x', 'i8'), ('y', 'int16'), ('ra', 'f8'), ('dec', 'float16')]\n"
     ]
    }
   ],
   "source": [
    "import random\n",
    "dataHeaders = \" id  x     y ra     dec\".split()\n",
    "dataTypes   = \"U20 i8 int16 f8 float16\".split()\n",
    "print(dataHeaders)\n",
    "print(dataTypes)\n",
    "todo = [(header, type) for header, type in zip(dataHeaders, dataTypes)]\n",
    "dataType = np.dtype(todo)\n",
    "print(todo)\n",
    "\n",
    "# generate data to read\n",
    "outputList = []\n",
    "for i in range(10):\n",
    "    outputList.append(\"{:10} {:10d} {:10d} {:10f} {:10f}\". # format is more advanced than %\n",
    "        format(np.random.randint(9999),\n",
    "               np.random.randint(9999),\n",
    "               np.random.randint(9999),\n",
    "               np.random.rand(),\n",
    "               np.random.rand()))\n",
    "with open('./temp.dat', 'w') as f:\n",
    "    f.write('\\n'.join(outputList))"
   ]
  },
  {
   "cell_type": "code",
   "execution_count": 29,
   "metadata": {},
   "outputs": [
    {
     "name": "stdout",
     "output_type": "stream",
     "text": [
      "       107       7716        847   0.345188   0.016641\r\n",
      "      2100       6384       9971   0.969953   0.834959\r\n",
      "      6413       1514       1940   0.828885   0.826602\r\n",
      "      4240       3817       5633   0.124147   0.257443\r\n",
      "      4882       2150       3327   0.503724   0.873650\r\n",
      "      2935       5088       9724   0.550332   0.325609\r\n",
      "      4825       8018       1202   0.128692   0.049957\r\n",
      "      9148       6307       4168   0.410860   0.009358\r\n",
      "      9192       5360       4120   0.180746   0.936286\r\n",
      "      1650       5513       2838   0.899948   0.589708"
     ]
    }
   ],
   "source": [
    "cat ./temp.dat\n"
   ]
  },
  {
   "cell_type": "code",
   "execution_count": 30,
   "metadata": {},
   "outputs": [
    {
     "data": {
      "text/plain": [
       "array([('107', 7716,  847, 0.345188, 0.01665),\n",
       "       ('2100', 6384, 9971, 0.969953, 0.835  ),\n",
       "       ('6413', 1514, 1940, 0.828885, 0.8267 ),\n",
       "       ('4240', 3817, 5633, 0.124147, 0.2573 ),\n",
       "       ('4882', 2150, 3327, 0.503724, 0.8735 ),\n",
       "       ('2935', 5088, 9724, 0.550332, 0.3257 ),\n",
       "       ('4825', 8018, 1202, 0.128692, 0.04996),\n",
       "       ('9148', 6307, 4168, 0.41086 , 0.00936),\n",
       "       ('9192', 5360, 4120, 0.180746, 0.9365 ),\n",
       "       ('1650', 5513, 2838, 0.899948, 0.59   )],\n",
       "      dtype=[('id', '<U20'), ('x', '<i8'), ('y', '<i2'), ('ra', '<f8'), ('dec', '<f2')])"
      ]
     },
     "execution_count": 30,
     "metadata": {},
     "output_type": "execute_result"
    }
   ],
   "source": [
    "# load it use np.loadtxt\n",
    "data = np.loadtxt('./temp.dat', dtype=dataType)\n",
    "data"
   ]
  },
  {
   "cell_type": "code",
   "execution_count": 38,
   "metadata": {},
   "outputs": [
    {
     "name": "stdout",
     "output_type": "stream",
     "text": [
      "[('107', '7716', '847', '0.345188', '0.016641'),\n",
      " ('2100', '6384', '9971', '0.969953', '0.834959'),\n",
      " ('6413', '1514', '1940', '0.828885', '0.826602'),\n",
      " ('4240', '3817', '5633', '0.124147', '0.257443'),\n",
      " ('4882', '2150', '3327', '0.503724', '0.873650'),\n",
      " ('2935', '5088', '9724', '0.550332', '0.325609'),\n",
      " ('4825', '8018', '1202', '0.128692', '0.049957'),\n",
      " ('9148', '6307', '4168', '0.410860', '0.009358'),\n",
      " ('9192', '5360', '4120', '0.180746', '0.936286'),\n",
      " ('1650', '5513', '2838', '0.899948', '0.589708')]\n"
     ]
    },
    {
     "ename": "ValueError",
     "evalue": "could not assign tuple of length 5 to structure with 2 fields.",
     "output_type": "error",
     "traceback": [
      "\u001b[0;31m---------------------------------------------------------------------------\u001b[0m",
      "\u001b[0;31mValueError\u001b[0m                                Traceback (most recent call last)",
      "\u001b[0;32m<ipython-input-38-0e562e188142>\u001b[0m in \u001b[0;36m<module>\u001b[0;34m\u001b[0m\n\u001b[1;32m      8\u001b[0m \u001b[0mpprint\u001b[0m\u001b[0;34m.\u001b[0m\u001b[0mpprint\u001b[0m\u001b[0;34m(\u001b[0m\u001b[0mdataList\u001b[0m\u001b[0;34m)\u001b[0m\u001b[0;34m\u001b[0m\u001b[0;34m\u001b[0m\u001b[0m\n\u001b[1;32m      9\u001b[0m \u001b[0;34m\u001b[0m\u001b[0m\n\u001b[0;32m---> 10\u001b[0;31m \u001b[0mdata\u001b[0m \u001b[0;34m=\u001b[0m \u001b[0mnp\u001b[0m\u001b[0;34m.\u001b[0m\u001b[0marray\u001b[0m\u001b[0;34m(\u001b[0m\u001b[0mdataList\u001b[0m\u001b[0;34m,\u001b[0m \u001b[0mdtype\u001b[0m\u001b[0;34m=\u001b[0m\u001b[0mdataType\u001b[0m\u001b[0;34m)\u001b[0m\u001b[0;34m\u001b[0m\u001b[0;34m\u001b[0m\u001b[0m\n\u001b[0m\u001b[1;32m     11\u001b[0m \u001b[0mdata\u001b[0m\u001b[0;34m\u001b[0m\u001b[0;34m\u001b[0m\u001b[0m\n",
      "\u001b[0;31mValueError\u001b[0m: could not assign tuple of length 5 to structure with 2 fields."
     ]
    }
   ],
   "source": [
    "import pprint\n",
    "# load it manually\n",
    "dataList = []\n",
    "with open('./temp.dat') as f:\n",
    "    for eachline in f:\n",
    "        eachRow = tuple(eachline.split())\n",
    "        dataList.append(eachRow)\n",
    "pprint.pprint(dataList)\n",
    "\n",
    "data = np.array(dataList, dtype=dataType)\n",
    "data"
   ]
  },
  {
   "cell_type": "code",
   "execution_count": 39,
   "metadata": {},
   "outputs": [
    {
     "data": {
      "text/plain": [
       "('107', 7716, 847, 0.345188, 0.01665)"
      ]
     },
     "execution_count": 39,
     "metadata": {},
     "output_type": "execute_result"
    }
   ],
   "source": [
    "data[0]"
   ]
  },
  {
   "cell_type": "code",
   "execution_count": 41,
   "metadata": {},
   "outputs": [
    {
     "data": {
      "text/plain": [
       "array([('list', list([1, 2, 3])), ('dict', {1: 1, 2: 2}),\n",
       "       ('tuple', (1, 2, 3)), ('another ndarray', array([1, 2, 3, 4])),\n",
       "       ('any thing', <module 'numpy' from '/Users/jjc/anaconda3/lib/python3.7/site-packages/numpy/__init__.py'>)],\n",
       "      dtype=[('id', '<U20'), ('obj', 'O')])"
      ]
     },
     "execution_count": 41,
     "metadata": {},
     "output_type": "execute_result"
    }
   ],
   "source": [
    "rawData = [\n",
    "    ('list', [1,2,3]),\n",
    "    ('dict', {1:1, 2:2}),\n",
    "    ('tuple', (1,2,3)),\n",
    "    ('another ndarray', np.array([1,2,3,4])),\n",
    "    ('any thing', np),\n",
    "]\n",
    "\n",
    "newData = np.array(rawData, dtype=dataType)\n",
    "newData"
   ]
  },
  {
   "cell_type": "code",
   "execution_count": 42,
   "metadata": {},
   "outputs": [
    {
     "name": "stdout",
     "output_type": "stream",
     "text": [
      "['list' 'dict' 'tuple' 'another ndarray' 'any thing']\n",
      "[list([1, 2, 3]) {1: 1, 2: 2} (1, 2, 3) array([1, 2, 3, 4])\n",
      " <module 'numpy' from '/Users/jjc/anaconda3/lib/python3.7/site-packages/numpy/__init__.py'>]\n"
     ]
    }
   ],
   "source": [
    "print(newData['id'])\n",
    "print(newData['obj'])"
   ]
  },
  {
   "cell_type": "markdown",
   "metadata": {},
   "source": [
    "# Cautions about python3, encoding"
   ]
  },
  {
   "cell_type": "code",
   "execution_count": 49,
   "metadata": {},
   "outputs": [
    {
     "name": "stdout",
     "output_type": "stream",
     "text": [
      "你好\n",
      "你好\n",
      "b'\\xe4\\xbd\\xa0\\xe5\\xa5\\xbd'\n",
      "('你好', '你好', b'\\xe4\\xbd\\xa0\\xe5\\xa5\\xbd', '你好')\n"
     ]
    }
   ],
   "source": [
    "a = '你好'\n",
    "b = u'你好'\n",
    "c = a.encode('utf-8')\n",
    "print(a)\n",
    "print(b)\n",
    "print(c)\n",
    "print((a,b,c,c.decode('utf-8')))"
   ]
  },
  {
   "cell_type": "markdown",
   "metadata": {},
   "source": [
    "# Debug"
   ]
  },
  {
   "cell_type": "markdown",
   "metadata": {},
   "source": [
    "    import pdb\n",
    "    pdb.set_trace()\n",
    "\n",
    "    import ipdb\n",
    "    ipdb.set_trace()"
   ]
  },
  {
   "cell_type": "code",
   "execution_count": null,
   "metadata": {},
   "outputs": [
    {
     "name": "stdout",
     "output_type": "stream",
     "text": [
      "1\n",
      "--Return--\n",
      "> <ipython-input-1-87eee85afb7f>(4)<module>()->None\n",
      "-> pdb.set_trace()\n",
      "(Pdb) \n"
     ]
    }
   ],
   "source": [
    "import pdb\n",
    "a = 1\n",
    "print(a)\n",
    "pdb.set_trace()\n",
    "print(a + 1)"
   ]
  },
  {
   "cell_type": "markdown",
   "metadata": {},
   "source": [
    "# freestyle to learn python package\n",
    "\n",
    "* document (tutorial, example, gallery)\n",
    "* jupyter + notebook or ipython\n",
    "* make your own notes or snippets"
   ]
  },
  {
   "cell_type": "markdown",
   "metadata": {},
   "source": [
    "# Dealing with FITS\n",
    "Flexible Image Transport System"
   ]
  },
  {
   "cell_type": "code",
   "execution_count": 4,
   "metadata": {},
   "outputs": [
    {
     "name": "stdout",
     "output_type": "stream",
     "text": [
      "Filename: B0950+08_gl98_408.fits\n",
      "No.    Name      Ver    Type      Cards   Dimensions   Format\n",
      "  0  PRIMARY       1 PrimaryHDU      64   ()      \n",
      "  1  HISTORY       1 BinTableHDU     71   1R x 28C   [24A, 256A, 8A, 8A, 1J, 1I, 1I, 1I, 1D, 1D, 1J, 1D, 1D, 1D, 1I, 1I, 1I, 1I, 1I, 32A, 32A, 32A, 256A, 32A, 32A, 1I, 32A, 1I]   \n",
      "  2  SUBINT        1 BinTableHDU     72   1R x 11C   [1D, 1D, 1D, 1D, 1D, 1D, D, E, 4E, 4E, 1872I]   \n",
      "None\n"
     ]
    }
   ],
   "source": [
    "from astropy.io import fits\n",
    "hdul = fits.open('B0950+08_gl98_408.fits')\n",
    "print(hdul.info())"
   ]
  },
  {
   "cell_type": "code",
   "execution_count": 5,
   "metadata": {},
   "outputs": [
    {
     "name": "stdout",
     "output_type": "stream",
     "text": [
      "SIMPLE  =                    T / file does conform to FITS standard             BITPIX  =                    8 / number of bits per data pixel                  NAXIS   =                    0 / number of data axes                            EXTEND  =                    T / FITS dataset may contain extensions            COMMENT   FITS (Flexible Image Transport System) format is defined in 'AstronomyCOMMENT   and Astrophysics', volume 376, page 359; bibcode: 2001A&A...376..359H COMMENT   FITS (Flexible Image Transport System) format defined in Astronomy andCOMMENT   Astrophysics Supplement Series v44/p363, v44/p371, v73/p359, v73/p365.COMMENT   Contact the NASA Science Office of Standards and Technology for the   COMMENT   FITS Definition document #100 and other FITS information.             HDRVER  = '5.4             '   / Header version                                 FITSTYPE= 'PSRFITS         '   / FITS definition for pulsar data files          DATE    = '                '   / File creation date (YYYY-MM-DDThh:mm:ss UTC)   OBSERVER= '                '   / Observer name(s)                               PROJID  = '                '   / Project name                                   TELESCOP= 'lovell  '           / Telescope name                                 ANT_X   = '*       '           / [m] Antenna ITRF X-coordinate (D)              ANT_Y   = '*       '           / [m] Antenna ITRF Y-coordinate (D)              ANT_Z   = '*       '           / [m] Antenna ITRF Z-coordinate (D)              FRONTEND= '                '   / Receiver ID                                    IBEAM   = '                '   / Beam ID for multibeam systems                  NRCVR   = '*       '           / Number of receiver polarisation channels       FD_POLN = '                '   / LIN or CIRC                                    FD_HAND = '*       '           / +/- 1. +1 is LIN:A=X,B=Y, CIRC:A=L,B=R (I)     FD_SANG = '*       '           / [deg] FA of E vect for equal sig in A&B (E)    FD_XYPH = '*       '           / [deg] Phase of A^* B for injected cal (E)      BACKEND = '                '   / Backend ID                                     BECONFIG= '                '   / Backend configuration file name                BE_PHASE= '*       '           / 0/+1/-1 BE cross-phase:0 unknown,+/-1 std/rev  BE_DCC  = '*       '           / 0/1 BE downconversion conjugation corrected    BE_DELAY= '*       '           / [s] Backend propn delay from digitiser input   TCYCLE  = '*       '           / [s] On-line cycle time (D)                     OBS_MODE= 'PSR     '           / (PSR, CAL, SEARCH)                             DATE-OBS= '                '   / Date of observation (YYYY-MM-DDThh:mm:ss UTC)  OBSFREQ = '*       '           / [MHz] Centre frequency for observation         OBSBW   = '*       '           / [MHz] Bandwidth for observation                OBSNCHAN= '*       '           / Number of frequency channels (original)        CHAN_DM = '*       '           / [cm-3 pc] DM used for on-line dedispersion     PNT_ID  = '                '   / Name or ID for pointing ctr (multibeam feeds)  SRC_NAME= 'J0953+0755'         / Source or scan ID                              COORD_MD= 'J2000   '           / Coordinate mode (J2000, GALACTIC, ECLIPTIC)    EQUINOX = '2000.0  '           / Equinox of coords (e.g. 2000.0)                RA      = '09:53:00.000'       / Right ascension (hh:mm:ss.ssss)                DEC     = '+07:55:00.000'      / Declination (-dd:mm:ss.sss)                    BMAJ    = '*       '           / [deg] Beam major axis length                   BMIN    = '*       '           / [deg] Beam minor axis length                   BPA     = '*       '           / [deg] Beam position angle                      STT_CRD1= '09:53:00.000'       / Start coord 1 (hh:mm:ss.sss or ddd.ddd)        STT_CRD2= '+07:55:00.000'      / Start coord 2 (-dd:mm:ss.sss or -dd.ddd)       TRK_MODE= '                '   / Track mode (TRACK, SCANGC, SCANLAT)            STP_CRD1= '                '   / Stop coord 1 (hh:mm:ss.sss or ddd.ddd)         STP_CRD2= '                '   / Stop coord 2 (-dd:mm:ss.sss or -dd.ddd)        SCANLEN = '*       '           / [s] Requested scan length (E)                  FD_MODE = '                '   / Feed track mode - FA, CPA, SPA, TPA            FA_REQ  = '*       '           / [deg] Feed/Posn angle requested (E)            CAL_MODE= '                '   / Cal mode (OFF, SYNC, EXT1, EXT2)               CAL_FREQ= '*       '           / [Hz] Cal modulation frequency (E)              CAL_DCYC= '*       '           / Cal duty cycle (E)                             CAL_PHS = '*       '           / Cal phase (wrt start time) (E)                 CAL_NPHS= '*       '           / Number of states in cal pulse (I)              STT_IMJD=                48342 / Start MJD (UTC days) (J - long integer)        STT_SMJD=                70934 / [s] Start time (sec past UTC 00h) (J)          STT_OFFS=    0.400000306777656 / [s] Start time offset (D)                      STT_LST = '*       '           / [s] Start LST (D)                              END                                                                                                                                                                                                                                                                                                                                                                                                                                                                                                                                                                                                                                                             \n"
     ]
    }
   ],
   "source": [
    "print(hdul[0].header)"
   ]
  },
  {
   "cell_type": "code",
   "execution_count": 8,
   "metadata": {},
   "outputs": [
    {
     "name": "stdout",
     "output_type": "stream",
     "text": [
      "lovell\n"
     ]
    }
   ],
   "source": [
    "print(hdul['PRIMARY'].header['TELESCOP']) # get one item in primary header"
   ]
  },
  {
   "cell_type": "code",
   "execution_count": 13,
   "metadata": {},
   "outputs": [
    {
     "name": "stdout",
     "output_type": "stream",
     "text": [
      "ColDefs(\n",
      "    name = 'INDEXVAL'; format = '1D'\n",
      "    name = 'TSUBINT'; format = '1D'; unit = 's'\n",
      "    name = 'OFFS_SUB'; format = '1D'; unit = 's'\n",
      "    name = 'PERIOD'; format = '1D'; unit = 's'\n",
      "    name = 'AUX_DM'; format = '1D'; unit = 'CM-3'\n",
      "    name = 'AUX_RM'; format = '1D'; unit = 'RAD'\n",
      "    name = 'DAT_FREQ'; format = 'D'; unit = 'MHz'\n",
      "    name = 'DAT_WTS'; format = 'E'\n",
      "    name = 'DAT_OFFS'; format = '4E'\n",
      "    name = 'DAT_SCL'; format = '4E'\n",
      "    name = 'DATA'; format = '1872I'; unit = 'Jy'; dim = '(468,1,4)'\n",
      ")\n"
     ]
    }
   ],
   "source": [
    "print(hdul[2].columns)"
   ]
  },
  {
   "cell_type": "code",
   "execution_count": 15,
   "metadata": {},
   "outputs": [
    {
     "name": "stdout",
     "output_type": "stream",
     "text": [
      "[408.]\n"
     ]
    }
   ],
   "source": [
    "dat_freq = hdul[2].data['DAT_FREQ']\n",
    "print(dat_freq)"
   ]
  },
  {
   "cell_type": "code",
   "execution_count": 20,
   "metadata": {},
   "outputs": [
    {
     "name": "stdout",
     "output_type": "stream",
     "text": [
      "IQUV\n",
      "(1, 4, 1, 468)\n"
     ]
    }
   ],
   "source": [
    "print(hdul[2].header['POL_TYPE'])\n",
    "data = hdul[2].data['DATA']\n",
    "print(data.shape)"
   ]
  },
  {
   "cell_type": "code",
   "execution_count": 37,
   "metadata": {},
   "outputs": [
    {
     "data": {
      "image/png": "[encoded data removed]",
      "text/plain": [
       "<Figure size 432x288 with 1 Axes>"
      ]
     },
     "metadata": {
      "needs_background": "light"
     },
     "output_type": "display_data"
    }
   ],
   "source": [
    "import numpy as np\n",
    "import matplotlib.pyplot as plt\n",
    "dat_scl = hdul[2].data['DAT_SCL']\n",
    "dat_offs = hdul[2].data['DAT_OFFS']\n",
    "stokes_i = data[0, 0, 0]*dat_scl[0, 0] + dat_offs[0, 0]\n",
    "phase = np.linspace(0, 1, len(stokes_i), endpoint=False)\n",
    "plt.plot(phase, stokes_i) # let's plot the Stokes I\n",
    "plt.xlabel('Phase')\n",
    "plt.ylabel('Intensity')\n",
    "plt.show()\n",
    "plt.close()"
   ]
  },
  {
   "cell_type": "markdown",
   "metadata": {},
   "source": [
    "# homework2\n",
    "* before doing this homework, you should\n",
    "    * learn to use numpy and pandas to parse tables files\n",
    "    * learn to use astropy\n",
    "\n",
    "```\n",
    "    modify your VariableStar, now you can use pandas to parse the file\n",
    "\n",
    "    use matplotlib\n",
    "    add function \"plot\" into class VariableStar, so\n",
    "        I can use someSpecificVariableStar.plot() to get a beautiful plot of time v.s. all bands\n",
    "        I need the sticks of the x axis to be in format of 2014-11-23T10:23:10\n",
    "\n",
    "    use astropy\n",
    "    add function \"plotInMJD\"\n",
    "        make a plot the same as in function \"plot\", except that the x axis is MJD\n",
    "\n",
    "    add function \"getRaDec\"\n",
    "        return (ra, dec) of the star\n",
    "    add function \"getLB\"\n",
    "        return the galactic coordinates of the star\n",
    "\n",
    "    add another function of your like...\n",
    "        for example, you can write a function to get the median value of magnitude of all the bands\n",
    "\n",
    "    write Docs\n",
    "\n",
    "    write a Demo to show that all the requirements are satisfied\n",
    "```"
   ]
  },
  {
   "cell_type": "code",
   "execution_count": null,
   "metadata": {},
   "outputs": [],
   "source": []
  }
 ],
 "metadata": {
  "kernelspec": {
   "display_name": "Python 3",
   "language": "python",
   "name": "python3"
  },
  "language_info": {
   "codemirror_mode": {
    "name": "ipython",
    "version": 3
   },
   "file_extension": ".py",
   "mimetype": "text/x-python",
   "name": "python",
   "nbconvert_exporter": "python",
   "pygments_lexer": "ipython3",
   "version": "3.7.4"
  }
 },
 "nbformat": 4,
 "nbformat_minor": 2
}
