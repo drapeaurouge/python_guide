{
 "cells": [
  {
   "cell_type": "markdown",
   "metadata": {},
   "source": [
    "# Numpy\n",
    "http://www.numpy.org/"
   ]
  },
  {
   "cell_type": "markdown",
   "metadata": {},
   "source": [
    "# Scipy\n",
    "http://www.scipy.org/"
   ]
  },
  {
   "cell_type": "markdown",
   "metadata": {},
   "source": [
    "# Astropy\n",
    "http://www.astropy.org/"
   ]
  },
  {
   "cell_type": "markdown",
   "metadata": {},
   "source": [
    "# Matplotlib"
   ]
  },
  {
   "cell_type": "markdown",
   "metadata": {},
   "source": [
    "From https://github.com/jonathansick/awesome-astronomy\n",
    "- [AplPy](http://aplpy.github.io) - a Python module for astronomical imaging data.\n",
    "- [Astropy](http://astropy.org) - Core package for Astronomy in Python.\n",
    "- [AstroML](http://www.astroml.org) - Companion textbook *Statistics, Data Mining, and Machine Learning in Astronomy*.\n",
    "- [Emcee](http://dan.iel.fm/emcee/current/) - Seriously kick-ass MCMC.\n",
    "- [GalPy](https://github.com/jobovy/galpy) - Galactic Dynamics in python.\n",
    "- [The LSST Stack](https://confluence.lsstcorp.org/display/LSWUG/Using+the+LSST+Stack) Conda-installable codes for working with LSST simulation data and some existing data."
   ]
  },
  {
   "cell_type": "markdown",
   "metadata": {},
   "source": [
    "# Organize data\n",
    "\n",
    "## numpy.ndarray\n",
    "    simple but powerful\n",
    "## numpy.ma.MaskedArray\n",
    "    ndarray with mask\n",
    "## astropy.table\n",
    "    specifically designed for astro table\n",
    "## pandas.DataFrame\n",
    "    good at data clearning, suitable for collect and clean data from real life"
   ]
  },
  {
   "cell_type": "markdown",
   "metadata": {},
   "source": [
    "# Basic about numpy.ndarray"
   ]
  },
  {
   "cell_type": "code",
   "execution_count": 30,
   "metadata": {},
   "outputs": [
    {
     "ename": "TypeError",
     "evalue": "can only concatenate list (not \"int\") to list",
     "output_type": "error",
     "traceback": [
      "\u001b[0;31m---------------------------------------------------------------------------\u001b[0m",
      "\u001b[0;31mTypeError\u001b[0m                                 Traceback (most recent call last)",
      "\u001b[0;32m<ipython-input-30-d5cad62e4a63>\u001b[0m in \u001b[0;36m<module>\u001b[0;34m\u001b[0m\n\u001b[1;32m      1\u001b[0m \u001b[0ma\u001b[0m \u001b[0;34m=\u001b[0m \u001b[0;34m[\u001b[0m\u001b[0;36m1\u001b[0m\u001b[0;34m,\u001b[0m\u001b[0;36m2\u001b[0m\u001b[0;34m,\u001b[0m\u001b[0;36m3\u001b[0m\u001b[0;34m]\u001b[0m\u001b[0;34m\u001b[0m\u001b[0;34m\u001b[0m\u001b[0m\n\u001b[0;32m----> 2\u001b[0;31m \u001b[0mb\u001b[0m \u001b[0;34m=\u001b[0m \u001b[0ma\u001b[0m \u001b[0;34m+\u001b[0m \u001b[0;36m1\u001b[0m \u001b[0;31m# a normal list cannot \"add\"\u001b[0m\u001b[0;34m\u001b[0m\u001b[0;34m\u001b[0m\u001b[0m\n\u001b[0m",
      "\u001b[0;31mTypeError\u001b[0m: can only concatenate list (not \"int\") to list"
     ]
    }
   ],
   "source": [
    "a = [1,2,3]\n",
    "b = a + 1 # a normal list cannot \"add\""
   ]
  },
  {
   "cell_type": "code",
   "execution_count": 31,
   "metadata": {},
   "outputs": [
    {
     "name": "stdout",
     "output_type": "stream",
     "text": [
      "[2 3 4]\n"
     ]
    }
   ],
   "source": [
    "import numpy as np\n",
    "a = np.array([1,2,3]) # transform a list into a numpy array\n",
    "print(a + 1)"
   ]
  },
  {
   "cell_type": "code",
   "execution_count": 32,
   "metadata": {},
   "outputs": [
    {
     "name": "stdout",
     "output_type": "stream",
     "text": [
      "[0.  0.5 1.  1.5 2.  2.5 3.  3.5 4.  4.5 5.  5.5 6.  6.5 7.  7.5 8.  8.5\n",
      " 9.  9.5]\n",
      "float64\n",
      "[ 0.          0.47942554  0.84147098  0.99749499  0.90929743  0.59847214\n",
      "  0.14112001 -0.35078323 -0.7568025  -0.97753012 -0.95892427 -0.70554033\n",
      " -0.2794155   0.21511999  0.6569866   0.93799998  0.98935825  0.79848711\n",
      "  0.41211849 -0.07515112]\n",
      "4.75\n"
     ]
    }
   ],
   "source": [
    "a = np.arange(0,10,0.5)\n",
    "print(a)\n",
    "print(a.dtype)\n",
    "print(np.sin(a))\n",
    "print(np.mean(a))"
   ]
  },
  {
   "cell_type": "raw",
   "metadata": {},
   "source": [
    "a.\n",
    "  all()          astype()       conj()         data           fill()         item()\n",
    "  any()          base           conjugate()    diagonal()     flags          itemset()\n",
    "  argmax()       byteswap()     copy()         dot()          flat           itemsize\n",
    "  argmin()       choose()       ctypes         dtype          flatten()      max()\n",
    "  argpartition() clip()         cumprod()      dump()         getfield()     mean()\n",
    "  argsort()      compress()     cumsum()       dumps()        imag           min()\n",
    "  nbytes         ptp()          resize()       size           swapaxes()     tostring()\n",
    "  ndim           put()          round()        sort()         T              trace()\n",
    "  newbyteorder() ravel()        searchsorted() squeeze()      take()         transpose()\n",
    "  nonzero()      real           setfield()     std()          tobytes()      var()\n",
    "  partition()    repeat()       setflags()     strides        tofile()       view()\n",
    "  prod()         reshape()      shape          sum()          tolist()"
   ]
  },
  {
   "cell_type": "code",
   "execution_count": null,
   "metadata": {},
   "outputs": [],
   "source": []
  },
  {
   "cell_type": "code",
   "execution_count": 33,
   "metadata": {},
   "outputs": [
    {
     "data": {
      "text/plain": [
       "array([False, False, False, False, False, False, False,  True,  True,\n",
       "        True,  True,  True,  True,  True,  True,  True,  True,  True,\n",
       "        True,  True])"
      ]
     },
     "execution_count": 33,
     "metadata": {},
     "output_type": "execute_result"
    }
   ],
   "source": [
    "a>3"
   ]
  },
  {
   "cell_type": "code",
   "execution_count": 34,
   "metadata": {},
   "outputs": [
    {
     "data": {
      "text/plain": [
       "array([3.5, 4. , 4.5, 5. , 5.5, 6. , 6.5, 7. , 7.5, 8. , 8.5, 9. , 9.5])"
      ]
     },
     "execution_count": 34,
     "metadata": {},
     "output_type": "execute_result"
    }
   ],
   "source": [
    "a[a>3]"
   ]
  },
  {
   "cell_type": "code",
   "execution_count": 35,
   "metadata": {},
   "outputs": [
    {
     "name": "stdout",
     "output_type": "stream",
     "text": [
      "(array([ 7,  8,  9, 10, 11, 12, 13, 14, 15, 16, 17, 18, 19]),)\n",
      "[[ 7]\n",
      " [ 8]\n",
      " [ 9]\n",
      " [10]\n",
      " [11]\n",
      " [12]\n",
      " [13]\n",
      " [14]\n",
      " [15]\n",
      " [16]\n",
      " [17]\n",
      " [18]\n",
      " [19]]\n"
     ]
    }
   ],
   "source": [
    "print(np.where(a>3))\n",
    "print(np.argwhere(a>3)) # np.argwhere return a different shape"
   ]
  },
  {
   "cell_type": "code",
   "execution_count": 36,
   "metadata": {},
   "outputs": [
    {
     "data": {
      "text/plain": [
       "array([3.5, 4. , 4.5, 5. , 5.5, 6. , 6.5, 7. , 7.5, 8. , 8.5, 9. , 9.5])"
      ]
     },
     "execution_count": 36,
     "metadata": {},
     "output_type": "execute_result"
    }
   ],
   "source": [
    "a[np.where(a>3)]"
   ]
  },
  {
   "cell_type": "code",
   "execution_count": 37,
   "metadata": {},
   "outputs": [
    {
     "data": {
      "text/plain": [
       "(array([3.5]), array([3.5]), array([3.5]))"
      ]
     },
     "execution_count": 37,
     "metadata": {},
     "output_type": "execute_result"
    }
   ],
   "source": [
    "a[(a>3)&(a<4)], a[np.logical_and(a>3, a<4)], a[(a>3)*(a<4)]"
   ]
  },
  {
   "cell_type": "code",
   "execution_count": 38,
   "metadata": {},
   "outputs": [
    {
     "name": "stdout",
     "output_type": "stream",
     "text": [
      "[0.  0.5 1.  1.5 2.  2.5 3.  3.5 4.  4.5 5.  5.5 6.  6.5 7.  7.5 8.  8.5\n",
      " 9.  9.5]\n",
      "[0 0 1 1 2 2 3 3 4 4 5 5 6 6 7 7 8 8 9 9]\n",
      "int64\n"
     ]
    }
   ],
   "source": [
    "print(a)\n",
    "b = a.astype(np.int)\n",
    "print(b)\n",
    "print(b.dtype)"
   ]
  },
  {
   "cell_type": "code",
   "execution_count": 39,
   "metadata": {},
   "outputs": [
    {
     "name": "stdout",
     "output_type": "stream",
     "text": [
      "[0.0e+000 0.0e+000 4.9e-324 4.9e-324 9.9e-324 9.9e-324 1.5e-323 1.5e-323\n",
      " 2.0e-323 2.0e-323 2.5e-323 2.5e-323 3.0e-323 3.0e-323 3.5e-323 3.5e-323\n",
      " 4.0e-323 4.0e-323 4.4e-323 4.4e-323]\n"
     ]
    }
   ],
   "source": [
    "b.dtype = np.float64 # be careful when changing dtype\n",
    "print(b)"
   ]
  },
  {
   "cell_type": "code",
   "execution_count": 40,
   "metadata": {},
   "outputs": [
    {
     "name": "stdout",
     "output_type": "stream",
     "text": [
      "(2, 3, 4) (2, 3, 4)\n",
      "[[[ 0  1  2  3]\n",
      "  [ 4  5  6  7]\n",
      "  [ 8  9 10 11]]\n",
      "\n",
      " [[12 13 14 15]\n",
      "  [16 17 18 19]\n",
      "  [20 21 22 23]]]\n"
     ]
    }
   ],
   "source": [
    "a = np.arange(24).reshape((2,3,4))\n",
    "b = np.arange(24).reshape((2,-1,4))\n",
    "print(a.shape, b.shape)\n",
    "print(a)"
   ]
  },
  {
   "cell_type": "code",
   "execution_count": 41,
   "metadata": {},
   "outputs": [
    {
     "name": "stdout",
     "output_type": "stream",
     "text": [
      "[[ 6]\n",
      " [18]]\n",
      "\n",
      "[1 5 9]\n",
      "\n",
      "[[[ 0  1  2  3]\n",
      "  [ 4  5  6  7]\n",
      "  [ 8  9 10 11]]\n",
      "\n",
      " [[12 13 14 15]\n",
      "  [16 17 18 19]\n",
      "  [20 21 22 23]]]\n"
     ]
    }
   ],
   "source": [
    "print(a[:,1:2,2])\n",
    "print('')\n",
    "print(a[0,:,1])\n",
    "print('')\n",
    "print(a[:])"
   ]
  },
  {
   "cell_type": "code",
   "execution_count": 42,
   "metadata": {},
   "outputs": [
    {
     "name": "stdout",
     "output_type": "stream",
     "text": [
      "['id', 'x', 'y', 'ra', 'dec']\n",
      "['U20', 'i8', 'int16', 'f8', 'float16']\n",
      "[('id', 'U20'), ('x', 'i8'), ('y', 'int16'), ('ra', 'f8'), ('dec', 'float16')]\n"
     ]
    }
   ],
   "source": [
    "# generate a file for numpy to read later\n",
    "import random\n",
    "dataHeaders = \" id  x     y ra     dec\".split()\n",
    "dataTypes   = \"U20 i8 int16 f8 float16\".split()\n",
    "print(dataHeaders)\n",
    "print(dataTypes)\n",
    "todo = [(header, type) for header, type in zip(dataHeaders, dataTypes)]\n",
    "dataType = np.dtype(todo)\n",
    "print(todo)\n",
    "\n",
    "# generate data to read\n",
    "outputList = []\n",
    "for i in range(10):\n",
    "    outputList.append(\"{:10} {:10d} {:10d} {:10f} {:10f}\". # format is more advanced than %\n",
    "        format(np.random.randint(9999),\n",
    "               np.random.randint(9999),\n",
    "               np.random.randint(9999),\n",
    "               np.random.rand(),\n",
    "               np.random.rand()))\n",
    "with open('./temp.dat', 'w') as f:\n",
    "    f.write('\\n'.join(outputList))"
   ]
  },
  {
   "cell_type": "code",
   "execution_count": 43,
   "metadata": {},
   "outputs": [
    {
     "name": "stdout",
     "output_type": "stream",
     "text": [
      "      7536       3638       6190   0.402099   0.490017\r\n",
      "      6166       2278       8972   0.337858   0.071140\r\n",
      "       175       2876       4880   0.023578   0.356499\r\n",
      "      7833       9286       9427   0.059648   0.166795\r\n",
      "       659       5622       2897   0.975304   0.570214\r\n",
      "      7892       9106        692   0.925889   0.172355\r\n",
      "      2282       7179       7580   0.310859   0.304768\r\n",
      "      5826       2297       3485   0.466966   0.529815\r\n",
      "       429        597       5314   0.056375   0.213810\r\n",
      "      1772       5785       6208   0.660028   0.898092"
     ]
    }
   ],
   "source": [
    "cat ./temp.dat\n"
   ]
  },
  {
   "cell_type": "code",
   "execution_count": 44,
   "metadata": {},
   "outputs": [
    {
     "data": {
      "text/plain": [
       "array([('7536', 3638, 6190, 0.402099, 0.49   ),\n",
       "       ('6166', 2278, 8972, 0.337858, 0.07117),\n",
       "       ('175', 2876, 4880, 0.023578, 0.3564 ),\n",
       "       ('7833', 9286, 9427, 0.059648, 0.1667 ),\n",
       "       ('659', 5622, 2897, 0.975304, 0.5703 ),\n",
       "       ('7892', 9106,  692, 0.925889, 0.1724 ),\n",
       "       ('2282', 7179, 7580, 0.310859, 0.3047 ),\n",
       "       ('5826', 2297, 3485, 0.466966, 0.53   ),\n",
       "       ('429',  597, 5314, 0.056375, 0.2139 ),\n",
       "       ('1772', 5785, 6208, 0.660028, 0.898  )],\n",
       "      dtype=[('id', '<U20'), ('x', '<i8'), ('y', '<i2'), ('ra', '<f8'), ('dec', '<f2')])"
      ]
     },
     "execution_count": 44,
     "metadata": {},
     "output_type": "execute_result"
    }
   ],
   "source": [
    "# load it use np.loadtxt\n",
    "data = np.loadtxt('./temp.dat', dtype=dataType)\n",
    "data"
   ]
  },
  {
   "cell_type": "code",
   "execution_count": 45,
   "metadata": {},
   "outputs": [
    {
     "name": "stdout",
     "output_type": "stream",
     "text": [
      "[('7536', '3638', '6190', '0.402099', '0.490017'),\n",
      " ('6166', '2278', '8972', '0.337858', '0.071140'),\n",
      " ('175', '2876', '4880', '0.023578', '0.356499'),\n",
      " ('7833', '9286', '9427', '0.059648', '0.166795'),\n",
      " ('659', '5622', '2897', '0.975304', '0.570214'),\n",
      " ('7892', '9106', '692', '0.925889', '0.172355'),\n",
      " ('2282', '7179', '7580', '0.310859', '0.304768'),\n",
      " ('5826', '2297', '3485', '0.466966', '0.529815'),\n",
      " ('429', '597', '5314', '0.056375', '0.213810'),\n",
      " ('1772', '5785', '6208', '0.660028', '0.898092')]\n"
     ]
    },
    {
     "data": {
      "text/plain": [
       "array([('7536', 3638, 6190, 0.402099, 0.49   ),\n",
       "       ('6166', 2278, 8972, 0.337858, 0.07117),\n",
       "       ('175', 2876, 4880, 0.023578, 0.3564 ),\n",
       "       ('7833', 9286, 9427, 0.059648, 0.1667 ),\n",
       "       ('659', 5622, 2897, 0.975304, 0.5703 ),\n",
       "       ('7892', 9106,  692, 0.925889, 0.1724 ),\n",
       "       ('2282', 7179, 7580, 0.310859, 0.3047 ),\n",
       "       ('5826', 2297, 3485, 0.466966, 0.53   ),\n",
       "       ('429',  597, 5314, 0.056375, 0.2139 ),\n",
       "       ('1772', 5785, 6208, 0.660028, 0.898  )],\n",
       "      dtype=[('id', '<U20'), ('x', '<i8'), ('y', '<i2'), ('ra', '<f8'), ('dec', '<f2')])"
      ]
     },
     "execution_count": 45,
     "metadata": {},
     "output_type": "execute_result"
    }
   ],
   "source": [
    "import pprint\n",
    "# load it manually\n",
    "dataList = []\n",
    "with open('./temp.dat') as f:\n",
    "    for eachline in f:\n",
    "        eachRow = tuple(eachline.split())\n",
    "        dataList.append(eachRow)\n",
    "pprint.pprint(dataList)\n",
    "\n",
    "data = np.array(dataList, dtype=dataType)\n",
    "data"
   ]
  },
  {
   "cell_type": "code",
   "execution_count": 46,
   "metadata": {},
   "outputs": [
    {
     "data": {
      "text/plain": [
       "('7536', 3638, 6190, 0.402099, 0.49)"
      ]
     },
     "execution_count": 46,
     "metadata": {},
     "output_type": "execute_result"
    }
   ],
   "source": [
    "data[0]"
   ]
  },
  {
   "cell_type": "markdown",
   "metadata": {},
   "source": [
    "# numpy masked array"
   ]
  },
  {
   "cell_type": "code",
   "execution_count": 104,
   "metadata": {},
   "outputs": [
    {
     "name": "stdout",
     "output_type": "stream",
     "text": [
      "[100 1 2 -- 4] -- True\n",
      "[0 1 2 -- 4]\n",
      "[    0     1     4 -9999    16] [0 1 4 -- 16] [0 1 4 -- 16]\n"
     ]
    }
   ],
   "source": [
    "import numpy as np\n",
    "from numpy import ma\n",
    "\n",
    "x = np.array([100, 1, 2, -1, 4])\n",
    "y = np.array([0, 1, 2, 9999, 4])\n",
    "mx = ma.array(x, mask=[0, 0, 0, 1, 0]) # or True/False\n",
    "print(mx, mx[3], mx[3].mask) # also support slicing\n",
    "\n",
    "my = ma.masked_values(y, 9999)\n",
    "print(my)\n",
    "print(x*y, mx*y, mx*my)"
   ]
  },
  {
   "cell_type": "code",
   "execution_count": 47,
   "metadata": {},
   "outputs": [
    {
     "name": "stdout",
     "output_type": "stream",
     "text": [
      "[ 0  1  2 -1  4]\n",
      "[ 0  1  2 -1  4]\n",
      "[ 0  1  2 -1  4]\n"
     ]
    }
   ],
   "source": [
    "# access the data\n",
    "print(mx.data)\n",
    "print(ma.getdata(mx))\n",
    "print(np.array(mx))"
   ]
  },
  {
   "cell_type": "code",
   "execution_count": 57,
   "metadata": {},
   "outputs": [
    {
     "name": "stdout",
     "output_type": "stream",
     "text": [
      "[False False False  True False]\n",
      "[0 1 2 4]\n",
      "[0 1 2 4]\n"
     ]
    }
   ],
   "source": [
    "# access only the valid entries\n",
    "print(mx.mask)\n",
    "print(mx[~mx.mask])\n",
    "\n",
    "print(mx.compressed())"
   ]
  },
  {
   "cell_type": "code",
   "execution_count": 72,
   "metadata": {},
   "outputs": [
    {
     "name": "stdout",
     "output_type": "stream",
     "text": [
      "[0 1 2 -- 4]\n",
      "[-- 1 2 -- 4]\n",
      "[0 1 2 -- 4]\n",
      "[0 1 2 -1 4]\n"
     ]
    }
   ],
   "source": [
    "# modify mask\n",
    "mx = ma.array(x, mask=[0, 0, 0, 1, 0])\n",
    "print(mx)\n",
    "mx[0] = ma.masked\n",
    "print(mx)\n",
    "\n",
    "mx.mask[0] = False\n",
    "print(mx)\n",
    "\n",
    "mx.mask = False # unmask all\n",
    "mx.mask = ma.nomask\n",
    "print(mx)"
   ]
  },
  {
   "cell_type": "code",
   "execution_count": 89,
   "metadata": {},
   "outputs": [
    {
     "name": "stdout",
     "output_type": "stream",
     "text": [
      "[-- 1 2 -- 4]\n",
      "[5 1 2 -- 4]\n",
      "[5 1 2 -- 4]\n",
      "[-- 1 2 -- 4]\n"
     ]
    }
   ],
   "source": [
    "# hard mask\n",
    "mx = ma.array(x, mask=[1, 0, 0, 1, 0])\n",
    "print(mx)\n",
    "mx[0] = 5\n",
    "print(mx) # assigning a new value unmask the element\n",
    "\n",
    "mx.harden_mask() # harden the mask\n",
    "mx[3] = 999\n",
    "print(mx)\n",
    "mx.soften_mask()\n",
    "\n",
    "my = ma.array(x, mask=[1, 0, 0, 1, 0], hard_mask=True) # another way\n",
    "my[0] = 5\n",
    "print(my)"
   ]
  },
  {
   "cell_type": "markdown",
   "metadata": {},
   "source": [
    "# Pandas\n",
    "\n",
    "https://pandas.pydata.org\n",
    "\n",
    "- Serie: 1-D numpy array + index array\n",
    "- DataFrame: multiple series"
   ]
  },
  {
   "cell_type": "code",
   "execution_count": 31,
   "metadata": {},
   "outputs": [
    {
     "name": "stdout",
     "output_type": "stream",
     "text": [
      "0    42\n",
      "1    43\n",
      "2    44\n",
      "dtype: int64 \n",
      "\n",
      "electron    42\n",
      "proton      43\n",
      "neutron     44\n",
      "dtype: int64 \n",
      "\n",
      "43 43 \n",
      "\n",
      "proton     43\n",
      "neutron    44\n",
      "dtype: int64 \n",
      "\n",
      "electron    84.0\n",
      "neutrino     NaN\n",
      "neutron     88.0\n",
      "proton      86.0\n",
      "dtype: float64\n"
     ]
    }
   ],
   "source": [
    "# serie\n",
    "import numpy as np\n",
    "import pandas as pd\n",
    "\n",
    "s = pd.Series([42, 43, 44])\n",
    "print(s, '\\n')\n",
    "\n",
    "s = pd.Series([42, 43, 44], index=['electron', 'proton', 'neutron']) # index can be non-integer\n",
    "print(s2, '\\n')\n",
    "print(s2[1], s2['proton'], '\\n')\n",
    "print(s2['proton':], '\\n')\n",
    "\n",
    "t = pd.Series([42, 43, 44, 1], index=['electron', 'proton', 'neutron', 'neutrino'])\n",
    "print(s + st)"
   ]
  },
  {
   "cell_type": "code",
   "execution_count": 73,
   "metadata": {},
   "outputs": [
    {
     "name": "stdout",
     "output_type": "stream",
     "text": [
      "             S   T\n",
      "electron  42.0  42\n",
      "neutrino   NaN   1\n",
      "neutron   44.0  44\n",
      "proton    43.0  43 \n",
      "\n",
      "             S   T\n",
      "neutrino   NaN   1\n",
      "neutron   44.0  44 \n",
      "\n",
      "electron    42\n",
      "neutrino     1\n",
      "neutron     44\n",
      "Name: T, dtype: int64 \n",
      "\n",
      "   electron  neutrino  neutron  proton\n",
      "S      42.0       NaN     44.0    43.0\n",
      "T      42.0       1.0     44.0    43.0 \n",
      "\n",
      "              S      T\n",
      "electron  False  False\n",
      "neutrino  False  False\n",
      "neutron    True   True\n",
      "proton     True   True\n"
     ]
    }
   ],
   "source": [
    "# dataframe\n",
    "df = pd.DataFrame({'S': s, 'T': t})\n",
    "print(df, '\\n')\n",
    "\n",
    "print(df[1:3], '\\n')\n",
    "\n",
    "print(df.loc['electron':'neutron', 'T'], '\\n') # row, column\n",
    "\n",
    "print(df.T, '\\n')\n",
    "\n",
    "print(df > 42)"
   ]
  },
  {
   "cell_type": "code",
   "execution_count": 59,
   "metadata": {},
   "outputs": [
    {
     "name": "stdout",
     "output_type": "stream",
     "text": [
      "             S     T\n",
      "electron  42.0  42.0\n",
      "neutrino   NaN   1.0\n",
      "neutron   44.0  44.0\n",
      "proton    43.0  43.0\n",
      "positron  20.0   NaN \n",
      "\n",
      "             S     T\n",
      "electron  42.0  42.0\n",
      "neutron   44.0  44.0\n",
      "proton    43.0  43.0\n",
      "positron  20.0   NaN \n",
      "\n",
      "             S     T\n",
      "electron  42.0  42.0\n",
      "neutron   44.0  44.0\n",
      "proton    43.0  43.0\n",
      "positron  20.0   NaN \n",
      "\n",
      "             S\n",
      "electron  42.0\n",
      "neutron   44.0\n",
      "proton    43.0\n",
      "positron  20.0\n"
     ]
    }
   ],
   "source": [
    "# add and delete\n",
    "dg = df.append(pd.DataFrame({'S': [20]}, index=['positron']))\n",
    "print(dg, '\\n')\n",
    "\n",
    "dg['small'] = dg['T'] < 50\n",
    "print(dh, '\\n')\n",
    "\n",
    "dg = dg.drop('neutrino')\n",
    "print(dh, '\\n')\n",
    "\n",
    "dh = dg.drop(['T', 'small'], axis=1)\n",
    "print(dh)"
   ]
  },
  {
   "cell_type": "code",
   "execution_count": 74,
   "metadata": {},
   "outputs": [
    {
     "name": "stdout",
     "output_type": "stream",
     "text": [
      "         SysTime  CtrlState  TRP_PhaPos_X  TRP_PhaPos_Y  TRP_PhaPos_Z\n",
      "0  1563242400000          1      -62.8442       52.6798      -139.426\n",
      "1  1563242400200          1      -62.8420       52.6802      -139.427\n",
      "2  1563242400400          1      -62.8399       52.6806      -139.428\n",
      "3  1563242400600          1      -62.8377       52.6810      -139.429\n",
      "4  1563242400800          1      -62.8355       52.6814      -139.429\n"
     ]
    }
   ],
   "source": [
    "# I/O\n",
    "df = pd.read_excel('pd_test.xlsx')\n",
    "print(df)"
   ]
  },
  {
   "cell_type": "markdown",
   "metadata": {},
   "source": [
    "# Dealing with FITS\n",
    "Flexible Image Transport System"
   ]
  },
  {
   "cell_type": "code",
   "execution_count": 92,
   "metadata": {},
   "outputs": [
    {
     "name": "stdout",
     "output_type": "stream",
     "text": [
      "Filename: B0950+08_gl98_408.fits\n",
      "No.    Name      Ver    Type      Cards   Dimensions   Format\n",
      "  0  PRIMARY       1 PrimaryHDU      64   ()      \n",
      "  1  HISTORY       1 BinTableHDU     71   1R x 28C   [24A, 256A, 8A, 8A, 1J, 1I, 1I, 1I, 1D, 1D, 1J, 1D, 1D, 1D, 1I, 1I, 1I, 1I, 1I, 32A, 32A, 32A, 256A, 32A, 32A, 1I, 32A, 1I]   \n",
      "  2  SUBINT        1 BinTableHDU     72   1R x 11C   [1D, 1D, 1D, 1D, 1D, 1D, D, E, 4E, 4E, 1872I]   \n",
      "None\n"
     ]
    }
   ],
   "source": [
    "from astropy.io import fits\n",
    "hdul = fits.open('B0950+08_gl98_408.fits')\n",
    "print(hdul.info())"
   ]
  },
  {
   "cell_type": "code",
   "execution_count": 94,
   "metadata": {},
   "outputs": [
    {
     "data": {
      "text/plain": [
       "SIMPLE  =                    T / file does conform to FITS standard             \n",
       "BITPIX  =                    8 / number of bits per data pixel                  \n",
       "NAXIS   =                    0 / number of data axes                            \n",
       "EXTEND  =                    T / FITS dataset may contain extensions            \n",
       "COMMENT   FITS (Flexible Image Transport System) format is defined in 'Astronomy\n",
       "COMMENT   and Astrophysics', volume 376, page 359; bibcode: 2001A&A...376..359H \n",
       "COMMENT   FITS (Flexible Image Transport System) format defined in Astronomy and\n",
       "COMMENT   Astrophysics Supplement Series v44/p363, v44/p371, v73/p359, v73/p365.\n",
       "COMMENT   Contact the NASA Science Office of Standards and Technology for the   \n",
       "COMMENT   FITS Definition document #100 and other FITS information.             \n",
       "HDRVER  = '5.4             '   / Header version                                 \n",
       "FITSTYPE= 'PSRFITS         '   / FITS definition for pulsar data files          \n",
       "DATE    = '                '   / File creation date (YYYY-MM-DDThh:mm:ss UTC)   \n",
       "OBSERVER= '                '   / Observer name(s)                               \n",
       "PROJID  = '                '   / Project name                                   \n",
       "TELESCOP= 'lovell  '           / Telescope name                                 \n",
       "ANT_X   = '*       '           / [m] Antenna ITRF X-coordinate (D)              \n",
       "ANT_Y   = '*       '           / [m] Antenna ITRF Y-coordinate (D)              \n",
       "ANT_Z   = '*       '           / [m] Antenna ITRF Z-coordinate (D)              \n",
       "FRONTEND= '                '   / Receiver ID                                    \n",
       "IBEAM   = '                '   / Beam ID for multibeam systems                  \n",
       "NRCVR   = '*       '           / Number of receiver polarisation channels       \n",
       "FD_POLN = '                '   / LIN or CIRC                                    \n",
       "FD_HAND = '*       '           / +/- 1. +1 is LIN:A=X,B=Y, CIRC:A=L,B=R (I)     \n",
       "FD_SANG = '*       '           / [deg] FA of E vect for equal sig in A&B (E)    \n",
       "FD_XYPH = '*       '           / [deg] Phase of A^* B for injected cal (E)      \n",
       "BACKEND = '                '   / Backend ID                                     \n",
       "BECONFIG= '                '   / Backend configuration file name                \n",
       "BE_PHASE= '*       '           / 0/+1/-1 BE cross-phase:0 unknown,+/-1 std/rev  \n",
       "BE_DCC  = '*       '           / 0/1 BE downconversion conjugation corrected    \n",
       "BE_DELAY= '*       '           / [s] Backend propn delay from digitiser input   \n",
       "TCYCLE  = '*       '           / [s] On-line cycle time (D)                     \n",
       "OBS_MODE= 'PSR     '           / (PSR, CAL, SEARCH)                             \n",
       "DATE-OBS= '                '   / Date of observation (YYYY-MM-DDThh:mm:ss UTC)  \n",
       "OBSFREQ = '*       '           / [MHz] Centre frequency for observation         \n",
       "OBSBW   = '*       '           / [MHz] Bandwidth for observation                \n",
       "OBSNCHAN= '*       '           / Number of frequency channels (original)        \n",
       "CHAN_DM = '*       '           / [cm-3 pc] DM used for on-line dedispersion     \n",
       "PNT_ID  = '                '   / Name or ID for pointing ctr (multibeam feeds)  \n",
       "SRC_NAME= 'J0953+0755'         / Source or scan ID                              \n",
       "COORD_MD= 'J2000   '           / Coordinate mode (J2000, GALACTIC, ECLIPTIC)    \n",
       "EQUINOX = '2000.0  '           / Equinox of coords (e.g. 2000.0)                \n",
       "RA      = '09:53:00.000'       / Right ascension (hh:mm:ss.ssss)                \n",
       "DEC     = '+07:55:00.000'      / Declination (-dd:mm:ss.sss)                    \n",
       "BMAJ    = '*       '           / [deg] Beam major axis length                   \n",
       "BMIN    = '*       '           / [deg] Beam minor axis length                   \n",
       "BPA     = '*       '           / [deg] Beam position angle                      \n",
       "STT_CRD1= '09:53:00.000'       / Start coord 1 (hh:mm:ss.sss or ddd.ddd)        \n",
       "STT_CRD2= '+07:55:00.000'      / Start coord 2 (-dd:mm:ss.sss or -dd.ddd)       \n",
       "TRK_MODE= '                '   / Track mode (TRACK, SCANGC, SCANLAT)            \n",
       "STP_CRD1= '                '   / Stop coord 1 (hh:mm:ss.sss or ddd.ddd)         \n",
       "STP_CRD2= '                '   / Stop coord 2 (-dd:mm:ss.sss or -dd.ddd)        \n",
       "SCANLEN = '*       '           / [s] Requested scan length (E)                  \n",
       "FD_MODE = '                '   / Feed track mode - FA, CPA, SPA, TPA            \n",
       "FA_REQ  = '*       '           / [deg] Feed/Posn angle requested (E)            \n",
       "CAL_MODE= '                '   / Cal mode (OFF, SYNC, EXT1, EXT2)               \n",
       "CAL_FREQ= '*       '           / [Hz] Cal modulation frequency (E)              \n",
       "CAL_DCYC= '*       '           / Cal duty cycle (E)                             \n",
       "CAL_PHS = '*       '           / Cal phase (wrt start time) (E)                 \n",
       "CAL_NPHS= '*       '           / Number of states in cal pulse (I)              \n",
       "STT_IMJD=                48342 / Start MJD (UTC days) (J - long integer)        \n",
       "STT_SMJD=                70934 / [s] Start time (sec past UTC 00h) (J)          \n",
       "STT_OFFS=    0.400000306777656 / [s] Start time offset (D)                      \n",
       "STT_LST = '*       '           / [s] Start LST (D)                              "
      ]
     },
     "execution_count": 94,
     "metadata": {},
     "output_type": "execute_result"
    }
   ],
   "source": [
    "hdul[0].header"
   ]
  },
  {
   "cell_type": "code",
   "execution_count": 8,
   "metadata": {},
   "outputs": [
    {
     "name": "stdout",
     "output_type": "stream",
     "text": [
      "lovell\n"
     ]
    }
   ],
   "source": [
    "print(hdul['PRIMARY'].header['TELESCOP']) # get one item in primary header"
   ]
  },
  {
   "cell_type": "code",
   "execution_count": 13,
   "metadata": {},
   "outputs": [
    {
     "name": "stdout",
     "output_type": "stream",
     "text": [
      "ColDefs(\n",
      "    name = 'INDEXVAL'; format = '1D'\n",
      "    name = 'TSUBINT'; format = '1D'; unit = 's'\n",
      "    name = 'OFFS_SUB'; format = '1D'; unit = 's'\n",
      "    name = 'PERIOD'; format = '1D'; unit = 's'\n",
      "    name = 'AUX_DM'; format = '1D'; unit = 'CM-3'\n",
      "    name = 'AUX_RM'; format = '1D'; unit = 'RAD'\n",
      "    name = 'DAT_FREQ'; format = 'D'; unit = 'MHz'\n",
      "    name = 'DAT_WTS'; format = 'E'\n",
      "    name = 'DAT_OFFS'; format = '4E'\n",
      "    name = 'DAT_SCL'; format = '4E'\n",
      "    name = 'DATA'; format = '1872I'; unit = 'Jy'; dim = '(468,1,4)'\n",
      ")\n"
     ]
    }
   ],
   "source": [
    "print(hdul[2].columns)"
   ]
  },
  {
   "cell_type": "code",
   "execution_count": 15,
   "metadata": {},
   "outputs": [
    {
     "name": "stdout",
     "output_type": "stream",
     "text": [
      "[408.]\n"
     ]
    }
   ],
   "source": [
    "dat_freq = hdul[2].data['DAT_FREQ']\n",
    "print(dat_freq)"
   ]
  },
  {
   "cell_type": "code",
   "execution_count": 20,
   "metadata": {},
   "outputs": [
    {
     "name": "stdout",
     "output_type": "stream",
     "text": [
      "IQUV\n",
      "(1, 4, 1, 468)\n"
     ]
    }
   ],
   "source": [
    "print(hdul[2].header['POL_TYPE'])\n",
    "data = hdul[2].data['DATA']\n",
    "print(data.shape)"
   ]
  },
  {
   "cell_type": "code",
   "execution_count": 37,
   "metadata": {},
   "outputs": [
    {
     "data": {
      "image/png": "[encoded data removed]",
      "text/plain": [
       "<Figure size 432x288 with 1 Axes>"
      ]
     },
     "metadata": {
      "needs_background": "light"
     },
     "output_type": "display_data"
    }
   ],
   "source": [
    "import numpy as np\n",
    "import matplotlib.pyplot as plt\n",
    "dat_scl = hdul[2].data['DAT_SCL']\n",
    "dat_offs = hdul[2].data['DAT_OFFS']\n",
    "stokes_i = data[0, 0, 0]*dat_scl[0, 0] + dat_offs[0, 0]\n",
    "phase = np.linspace(0, 1, len(stokes_i), endpoint=False)\n",
    "plt.plot(phase, stokes_i) # let's plot the Stokes I\n",
    "plt.xlabel('Phase')\n",
    "plt.ylabel('Intensity')\n",
    "plt.show()\n",
    "plt.close()"
   ]
  },
  {
   "cell_type": "markdown",
   "metadata": {},
   "source": [
    "# Multiprocessing\n",
    "https://docs.python.org/3.7/library/multiprocessing.html\n",
    "\n",
    "(In python, multithreading does not improve the calculation speed. Python is a dynamic language. All the threads are run in one process, hence only one CPU is used. In fact, too many threads may even block the CPU. Multithreading is useful when the total speed is limited by other factors, e.g. disk i/o.)"
   ]
  },
  {
   "cell_type": "code",
   "execution_count": 27,
   "metadata": {},
   "outputs": [
    {
     "name": "stdout",
     "output_type": "stream",
     "text": [
      "[1, 4, 9]\n"
     ]
    }
   ],
   "source": [
    "import multiprocessing as mp\n",
    "\n",
    "def f(x):\n",
    "    return x**2\n",
    "\n",
    "with mp.Pool(4) as p:\n",
    "    print(p.map(f, [1, 2, 3]))"
   ]
  },
  {
   "cell_type": "code",
   "execution_count": 29,
   "metadata": {},
   "outputs": [
    {
     "name": "stdout",
     "output_type": "stream",
     "text": [
      "[1, 4, 27]\n"
     ]
    }
   ],
   "source": [
    "# a way to send multiple arguments\n",
    "import multiprocessing as mp\n",
    "\n",
    "def f(x, power):\n",
    "    return x**power\n",
    "\n",
    "with mp.Pool(4) as p:\n",
    "    print(p.starmap(f, [[1,1], [2,2], [3,3]]))"
   ]
  },
  {
   "cell_type": "markdown",
   "metadata": {},
   "source": [
    "# Cython\n",
    "\"Cython is Python with C data types.\"\n",
    "\n",
    "- Compiled before run\n",
    "\n",
    "- declared variable type\n",
    "\n",
    "http://docs.cython.org/en/latest/"
   ]
  },
  {
   "cell_type": "markdown",
   "metadata": {},
   "source": [
    "#======prime_python.py======\n",
    "```python\n",
    "def primes(nb_primes):\n",
    "    p = []\n",
    "    if nb_primes > 1000:\n",
    "        nb_primes = 1000\n",
    "\n",
    "    len_p = 0  # The current number of elements in p.\n",
    "    n = 2\n",
    "    while len_p < nb_primes:\n",
    "        # Is n prime?\n",
    "        for i in p[:len_p]:\n",
    "            if n % i == 0:\n",
    "                break\n",
    "\n",
    "        # If no break occurred in the loop, we have a prime.\n",
    "        else:\n",
    "            p.append(n)\n",
    "            len_p += 1\n",
    "        n += 1\n",
    "\n",
    "    return(p)\n",
    "```\n",
    "\n",
    "#======prime_cython.pyx======\n",
    "```python\n",
    "def primes(int nb_primes): # declare argument type\n",
    "    cdef int n, i, len_p # define variables in C style can speed up a lot\n",
    "    cdef int p[1000]\n",
    "    if nb_primes > 1000:\n",
    "        nb_primes = 1000\n",
    "\n",
    "    len_p = 0\n",
    "    n = 2\n",
    "    while len_p < nb_primes:\n",
    "        for i in p[:len_p]:\n",
    "            if n % i == 0:\n",
    "                break\n",
    "\n",
    "        else:\n",
    "            p[len_p] = n\n",
    "            len_p += 1\n",
    "        n += 1\n",
    "\n",
    "    result_as_list  = [prime for prime in p[:len_p]]\n",
    "    return(result_as_list)\n",
    "```\n",
    "\n",
    "#======setup.py======\n",
    "```python\n",
    "from distutils.core import setup\n",
    "from Cython.Build import cythonize\n",
    "\n",
    "setup(\n",
    "    ext_modules = cythonize(\"prime.pyx\", annotate=True)\n",
    ")\n",
    "```\n",
    "Then compile the cython:\n",
    "\n",
    "**python setup.py build_ext --inplace**"
   ]
  },
  {
   "cell_type": "code",
   "execution_count": 44,
   "metadata": {},
   "outputs": [
    {
     "name": "stdout",
     "output_type": "stream",
     "text": [
      "2 7919\n",
      "time used: 6.408405e-02 s\n"
     ]
    }
   ],
   "source": [
    "# test ordinary python code\n",
    "import cython_test.prime_python as prime\n",
    "import time\n",
    "\n",
    "t1 = time.time()\n",
    "result = prime.primes(1000)\n",
    "t2 = time.time()\n",
    "dt = t2 - t1\n",
    "print(result[0], result[-1])\n",
    "print('time used: %e s'%dt)"
   ]
  },
  {
   "cell_type": "code",
   "execution_count": 43,
   "metadata": {},
   "outputs": [
    {
     "name": "stdout",
     "output_type": "stream",
     "text": [
      "2 7919\n",
      "time used: 3.586054e-03 s\n"
     ]
    }
   ],
   "source": [
    "# test cython code\n",
    "import cython_test.prime_cython as prime\n",
    "import time\n",
    "\n",
    "t1 = time.time()\n",
    "result = prime.primes(1000)\n",
    "t2 = time.time()\n",
    "dt = t2 - t1\n",
    "print(result[0], result[-1])\n",
    "print('time used: %e s'%dt)"
   ]
  },
  {
   "cell_type": "markdown",
   "metadata": {},
   "source": [
    "# Operating system: [os](https://docs.python.org/3.7/library/os.html)"
   ]
  },
  {
   "cell_type": "code",
   "execution_count": 118,
   "metadata": {},
   "outputs": [
    {
     "name": "stdout",
     "output_type": "stream",
     "text": [
      "6727\n",
      "/Users/jjc/data/pythonGuide\n",
      "['demo', 'dickens.txt', 'cython_test', '.DS_Store', 'lecture2.ipynb', 'figs', 'pd_test.xlsx', 'outFile.txt', 'lecture1.ipynb', '.gitignore', '.ipynb_checkpoints', 'testFile.txt', '.git', 'temp.dat', 'data.txt', 'B0950+08_gl98_408.fits']\n",
      "<posix.ScandirIterator object at 0x129be62d0>\n",
      "True\n",
      "True\n"
     ]
    }
   ],
   "source": [
    "import os\n",
    "print(os.getppid())\n",
    "print(os.getcwd())\n",
    "print(os.listdir())\n",
    "print(os.scandir())\n",
    "print(os.path.isdir('demo'))\n",
    "print(os.path.isfile('dickens.txt'))"
   ]
  },
  {
   "cell_type": "markdown",
   "metadata": {},
   "source": [
    "```os.chdir(), os.mkdir(), os.remove(), os.removedirs(), os.rename(), os.fchmod(), os.fchown() ......\n",
    "```"
   ]
  },
  {
   "cell_type": "markdown",
   "metadata": {},
   "source": [
    "# Parsing arguments to python\n",
    "\n",
    "- sys.argv\n",
    "\n",
    "```python\n",
    "import sys\n",
    "args = sys.argv[1:] # start from the second element. sys.argv[0] is the python file name.\n",
    "```\n",
    "\n",
    "- argparse\n",
    "\n",
    "python cal.py -h\n",
    "\n",
    "python cal.py -p *.ar -cal *.cal --hand -1\n",
    "\n",
    "```python\n",
    "import sys\n",
    "import argparse\n",
    "\n",
    "def parse_arguments(argv): #sys.argv[0] should have been excluded\n",
    "    parser = argparse.ArgumentParser()\n",
    "    parser.add_argument('-p', '--psr', nargs='+', action='store', dest='psrfiles', default=[], help='the data files to be calibrated')\n",
    "    parser.add_argument('-c', '--cal', action='store', dest='calfiles', nargs='+', default=[], help='the calibration noises')\n",
    "    parser.add_argument('--hand', action='store', dest='hand', help='rcvr:hand, +1 or -1', default=0)\n",
    "    parser.add_argument('--phase', action='store', dest='phase', help='be:phase, +1 or -1', default=0)\n",
    "    parser.add_argument('-e', action='store', dest='extension', default='calibp', help='extension of the output file')\n",
    "    args = parser.parse_args()\n",
    "    return(args)\n",
    "\n",
    "if __name__ == '__main__':\n",
    "    args = parse_arguments(sys.argv[1:]))\n",
    "```"
   ]
  },
  {
   "cell_type": "markdown",
   "metadata": {},
   "source": [
    "# Regular expression: [re](https://docs.python.org/3.7/library/re.html)\n",
    "\n",
    "```.``` Matches any character except a newline\n",
    "\n",
    "```^``` Matches the start of the string\n",
    "\n",
    "```$``` Matches the end of the string\n",
    "\n",
    "```*``` Match 0 or more repetitions of the preceding RE\n",
    "\n",
    "```+``` Match 1 or more repetitions of the preceding RE\n",
    "\n",
    "```?``` Match 0 or 1 repetitions of the preceding RE\n",
    "\n",
    "```{m}``` Match m repetitions of the preceding RE\n",
    "\n",
    "```{m,n}``` Match m to n repetitions of the preceding RE\n",
    "\n",
    "```\\``` Special characters (match characters like *, ?), or signals a special sequence\n",
    "\n",
    "```[]``` A set of characters: [amk], [a-z], [0-9A-Fa-f]. [^5] maches all characters except 5.\n",
    "\n",
    "```\\d``` decimal digit\n",
    "\n",
    "```\\D``` any character not a decimal digit\n",
    "\n",
    "```\\s``` whitespace character (```[ \\t\\n\\r\\f\\v]```)\n",
    "\n",
    "```\\S``` any character not a whitespace character\n",
    "\n",
    "```\\w``` word character\n",
    "\n",
    "```\\W``` any character not a word character\n",
    "\n",
    "```A|B``` Match either A or B. A and B can be arbitrary REs.\n",
    "\n",
    "............"
   ]
  },
  {
   "cell_type": "code",
   "execution_count": 76,
   "metadata": {},
   "outputs": [
    {
     "name": "stdout",
     "output_type": "stream",
     "text": [
      "It was the best of times, it was the worst of times, it was the age of wisdom, it was the age of foolishness, it was the epoch of belief, it was the epoch of incredulity, it was the season of Light, it was the season of Darkness, it was the spring of hope, it was the winter of despair, we had everything before us, we had nothing before us, we were all going direct to Heaven, we were all going direct the other way – in short, the period was so far like the present period, that some of its noisiest authorities insisted on its being received, for good or for evil, in the superlative degree of comparison only.\n",
      "\n"
     ]
    }
   ],
   "source": [
    "with open('dickens.txt') as f:\n",
    "    text = f.read()\n",
    "    print(text)"
   ]
  },
  {
   "cell_type": "code",
   "execution_count": 101,
   "metadata": {},
   "outputs": [
    {
     "name": "stdout",
     "output_type": "stream",
     "text": [
      "None\n",
      "<re.Match object; span=(11, 24), match='best of times'>\n",
      "0\n"
     ]
    }
   ],
   "source": [
    "import re\n",
    "pattern1 = re.compile('\\w+\\sof\\s\\w+')\n",
    "print(re.match(pattern1, text))\n",
    "s = re.search(pattern1, text)\n",
    "print(s)\n",
    "print(s.pos)"
   ]
  },
  {
   "cell_type": "code",
   "execution_count": 103,
   "metadata": {},
   "outputs": [
    {
     "name": "stdout",
     "output_type": "stream",
     "text": [
      "('best', 'times') \n",
      "\n",
      "['best of times', 'worst of times', 'age of wisdom', 'age of foolishness', 'epoch of belief', 'epoch of incredulity', 'season of Light', 'season of Darkness', 'spring of hope', 'winter of despair', 'some of its', 'degree of comparison'] \n",
      "\n",
      "[('best', 'times'), ('worst', 'times'), ('age', 'wisdom'), ('age', 'foolishness'), ('epoch', 'belief'), ('epoch', 'incredulity'), ('season', 'Light'), ('season', 'Darkness'), ('spring', 'hope'), ('winter', 'despair'), ('some', 'its'), ('degree', 'comparison')] \n",
      "\n"
     ]
    }
   ],
   "source": [
    "# how to get matched parts\n",
    "pattern2 = re.compile('(\\w+)\\sof\\s(\\w+)') # () group\n",
    "s = re.search(pattern2, text)\n",
    "print(s.groups(), '\\n')\n",
    "\n",
    "print(re.findall(pattern1, text), '\\n')\n",
    "print(re.findall(pattern2, text), '\\n')"
   ]
  },
  {
   "cell_type": "markdown",
   "metadata": {},
   "source": [
    "# Cautions about python3, encoding"
   ]
  },
  {
   "cell_type": "code",
   "execution_count": 49,
   "metadata": {},
   "outputs": [
    {
     "name": "stdout",
     "output_type": "stream",
     "text": [
      "你好\n",
      "你好\n",
      "b'\\xe4\\xbd\\xa0\\xe5\\xa5\\xbd'\n",
      "('你好', '你好', b'\\xe4\\xbd\\xa0\\xe5\\xa5\\xbd', '你好')\n"
     ]
    }
   ],
   "source": [
    "a = '你好'\n",
    "b = u'你好'\n",
    "c = a.encode('utf-8')\n",
    "print(a)\n",
    "print(b)\n",
    "print(c)\n",
    "print((a,b,c,c.decode('utf-8')))"
   ]
  },
  {
   "cell_type": "markdown",
   "metadata": {},
   "source": [
    "# Debug"
   ]
  },
  {
   "cell_type": "markdown",
   "metadata": {},
   "source": [
    "    import pdb\n",
    "    pdb.set_trace()\n",
    "\n",
    "    import ipdb\n",
    "    ipdb.set_trace()"
   ]
  },
  {
   "cell_type": "code",
   "execution_count": null,
   "metadata": {},
   "outputs": [
    {
     "name": "stdout",
     "output_type": "stream",
     "text": [
      "1\n",
      "--Return--\n",
      "> <ipython-input-50-87eee85afb7f>(4)<module>()->None\n",
      "-> pdb.set_trace()\n",
      "(Pdb) \n",
      "(Pdb) \n",
      "(Pdb) \n",
      "(Pdb) \n",
      "(Pdb) \n",
      "(Pdb) \n",
      "(Pdb) \n",
      "(Pdb) \n",
      "(Pdb) a\n"
     ]
    }
   ],
   "source": [
    "import pdb\n",
    "a = 1\n",
    "print(a)\n",
    "pdb.set_trace()\n",
    "print(a + 1)"
   ]
  },
  {
   "cell_type": "markdown",
   "metadata": {},
   "source": [
    "# freestyle to learn python package\n",
    "\n",
    "* document (tutorial, example, gallery)\n",
    "* jupyter + notebook or ipython\n",
    "* make your own notes or snippets"
   ]
  }
 ],
 "metadata": {
  "kernelspec": {
   "display_name": "Python 3",
   "language": "python",
   "name": "python3"
  },
  "language_info": {
   "codemirror_mode": {
    "name": "ipython",
    "version": 3
   },
   "file_extension": ".py",
   "mimetype": "text/x-python",
   "name": "python",
   "nbconvert_exporter": "python",
   "pygments_lexer": "ipython3",
   "version": "3.7.4"
  }
 },
 "nbformat": 4,
 "nbformat_minor": 2
}
